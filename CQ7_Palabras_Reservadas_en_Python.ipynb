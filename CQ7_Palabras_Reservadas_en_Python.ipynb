{
  "nbformat": 4,
  "nbformat_minor": 0,
  "metadata": {
    "colab": {
      "provenance": [],
      "authorship_tag": "ABX9TyNBwwhryfSythwRzoxdFyrw",
      "include_colab_link": true
    },
    "kernelspec": {
      "name": "python3",
      "display_name": "Python 3"
    },
    "language_info": {
      "name": "python"
    }
  },
  "cells": [
    {
      "cell_type": "markdown",
      "metadata": {
        "id": "view-in-github",
        "colab_type": "text"
      },
      "source": [
        "<a href=\"https://colab.research.google.com/github/mgamboa564/PROGCOM-A/blob/main/CQ7_Palabras_Reservadas_en_Python.ipynb\" target=\"_parent\"><img src=\"https://colab.research.google.com/assets/colab-badge.svg\" alt=\"Open In Colab\"/></a>"
      ]
    },
    {
      "cell_type": "markdown",
      "source": [
        "#CQ7\n",
        "##Repositorio de Palabras Reservadas en Python"
      ],
      "metadata": {
        "id": "jkcvWBiv1hI5"
      }
    },
    {
      "cell_type": "markdown",
      "source": [
        "##False / True\n",
        "•Son los valores booleanos: falso y verdadero."
      ],
      "metadata": {
        "id": "wxw4ChJN1-I6"
      }
    },
    {
      "cell_type": "code",
      "execution_count": null,
      "metadata": {
        "id": "n-epcY1Z1daE"
      },
      "outputs": [],
      "source": [
        "print(True)   # imprime True\n",
        "print(False)  # imprime False"
      ]
    },
    {
      "cell_type": "markdown",
      "source": [
        "##None\n",
        "•Representa nada o sin valor."
      ],
      "metadata": {
        "id": "cAEnLEnG2Os0"
      }
    },
    {
      "cell_type": "code",
      "source": [
        "x = None\n",
        "print(x)  # imprime None"
      ],
      "metadata": {
        "id": "HeOANVfb2PCB"
      },
      "execution_count": null,
      "outputs": []
    },
    {
      "cell_type": "markdown",
      "source": [
        "## and / or / not\n",
        "•Son operadores lógicos:\n",
        "  - and → y\n",
        "  - or → o\n",
        "  - not → no"
      ],
      "metadata": {
        "id": "89jmrykq2gV8"
      }
    },
    {
      "cell_type": "code",
      "source": [
        "print(True and False)  # False\n",
        "print(True or False)   # True\n",
        "print(not True)        # False"
      ],
      "metadata": {
        "id": "5ua3Bp9X2g13"
      },
      "execution_count": null,
      "outputs": []
    },
    {
      "cell_type": "markdown",
      "source": [
        "##as\n",
        "- Sirve para ponerle un alias a algo importado."
      ],
      "metadata": {
        "id": "_N0P06XE2gPO"
      }
    },
    {
      "cell_type": "code",
      "source": [
        "import math as m\n",
        "print(m.pi)  # 3.14159"
      ],
      "metadata": {
        "id": "ompws3k12hKq"
      },
      "execution_count": null,
      "outputs": []
    },
    {
      "cell_type": "markdown",
      "source": [
        "##assert\n",
        "- Sirve para comprobar que algo es verdadero; si no, da error."
      ],
      "metadata": {
        "id": "GDxw7Yrh2gHU"
      }
    },
    {
      "cell_type": "code",
      "source": [
        "x = 5\n",
        "assert x > 0   # no pasa nada\n",
        "# assert x < 0  # daría error"
      ],
      "metadata": {
        "id": "2qm83RKg2hjW"
      },
      "execution_count": null,
      "outputs": []
    },
    {
      "cell_type": "markdown",
      "source": [
        "##break / continue\n",
        "- break → corta un ciclo.\n",
        "- continue → salta a la siguiente vuelta."
      ],
      "metadata": {
        "id": "tUkQMhU92gB7"
      }
    },
    {
      "cell_type": "code",
      "source": [
        "for i in range(5):\n",
        "    if i == 3:\n",
        "        break   # corta aquí\n",
        "    print(i)  # imprime 0,1,2"
      ],
      "metadata": {
        "id": "J9XbvrBU2h9e"
      },
      "execution_count": null,
      "outputs": []
    },
    {
      "cell_type": "markdown",
      "source": [
        "##class\n",
        "- Se usa para crear clases (plantillas de objetos)."
      ],
      "metadata": {
        "id": "Q5CbhICP3USf"
      }
    },
    {
      "cell_type": "code",
      "source": [
        "class Persona:\n",
        "    pass"
      ],
      "metadata": {
        "id": "ndDuUZ0E3Upu"
      },
      "execution_count": null,
      "outputs": []
    },
    {
      "cell_type": "markdown",
      "source": [
        "##def / return\n",
        "- def → define una función.\n",
        "- return → devuelve un valor."
      ],
      "metadata": {
        "id": "YXH3VhWv3UC1"
      }
    },
    {
      "cell_type": "code",
      "source": [
        "def sumar(a, b):\n",
        "    return a+b\n",
        "print(sumar(2,3))  # 5"
      ],
      "metadata": {
        "id": "l5Q3mcDl3VSu"
      },
      "execution_count": null,
      "outputs": []
    },
    {
      "cell_type": "markdown",
      "source": [
        "## del\n",
        "- Sirve para eliminar algo."
      ],
      "metadata": {
        "id": "zMJoSwXn3T9W"
      }
    },
    {
      "cell_type": "code",
      "source": [
        "x = 10\n",
        "del x\n"
      ],
      "metadata": {
        "id": "H9csMKGF3V4L"
      },
      "execution_count": null,
      "outputs": []
    },
    {
      "cell_type": "markdown",
      "source": [
        "##if / elif / else\n",
        "- Estructuras para tomar decisiones."
      ],
      "metadata": {
        "id": "kUflsB3c3T44"
      }
    },
    {
      "cell_type": "code",
      "source": [
        "x = 10\n",
        "if x < 5:\n",
        "    print(\"Menor que 5\")\n",
        "elif x == 10:\n",
        "    print(\"Es 10\")\n",
        "else:\n",
        "    print(\"Mayor que 10\")"
      ],
      "metadata": {
        "id": "UdxcGCv03WTT"
      },
      "execution_count": null,
      "outputs": []
    },
    {
      "cell_type": "markdown",
      "source": [
        "##try / except / finally / raise\n",
        "- Manejo de errores.\n",
        "  - try → intenta ejecutar.\n",
        "  - except → si hay error, captura.\n",
        "  - finally → siempre se ejecuta.\n",
        "  - raise → lanza un error."
      ],
      "metadata": {
        "id": "ijPUbasa32io"
      }
    },
    {
      "cell_type": "code",
      "source": [
        "try:\n",
        "    print(1/0)\n",
        "except:\n",
        "    print(\"Error!\")\n",
        "finally:\n",
        "    print(\"Siempre se ejecuta\")"
      ],
      "metadata": {
        "id": "QSCobQOx33Tg"
      },
      "execution_count": null,
      "outputs": []
    },
    {
      "cell_type": "markdown",
      "source": [
        "##for / while\n",
        "- Bucles.\n",
        "  - for → recorre elementos.\n",
        "  - while → repite mientras una condición sea verdadera."
      ],
      "metadata": {
        "id": "17vY2GAj32cp"
      }
    },
    {
      "cell_type": "code",
      "source": [
        "for i in range(3):\n",
        "    print(i)  # 0,1,2\n",
        "\n",
        "x = 0\n",
        "while x < 3:\n",
        "    print(x)\n",
        "    x += 1"
      ],
      "metadata": {
        "id": "yrkEcLFE33vB"
      },
      "execution_count": null,
      "outputs": []
    },
    {
      "cell_type": "markdown",
      "source": [
        "##from / import\n",
        "- Para importar módulos."
      ],
      "metadata": {
        "id": "xpGI0keD4ydK"
      }
    },
    {
      "cell_type": "code",
      "source": [
        "from math import sqrt\n",
        "print(sqrt(16))  # 4"
      ],
      "metadata": {
        "id": "cOaSUv1i4yyB"
      },
      "execution_count": null,
      "outputs": []
    },
    {
      "cell_type": "markdown",
      "source": [
        "## global / nonlocal\n",
        "- Manejan variables de distintos niveles.\n",
        "  - global → modifica variable global.\n",
        "  - nonlocal → modifica variable de una función que contiene a otra."
      ],
      "metadata": {
        "id": "JKeoiaBz4yXv"
      }
    },
    {
      "cell_type": "code",
      "source": [
        "x = 5\n",
        "def f():\n",
        "    global x\n",
        "    x = 10\n",
        "f()\n",
        "print(x)  # 10"
      ],
      "metadata": {
        "id": "JSPCeqg14zS2"
      },
      "execution_count": null,
      "outputs": []
    },
    {
      "cell_type": "markdown",
      "source": [
        "##in / is\n",
        "  - in → para verificar pertenencia.\n",
        "  - is → compara identidad (si es el mismo objeto)."
      ],
      "metadata": {
        "id": "M5ZjSLNA4yRx"
      }
    },
    {
      "cell_type": "code",
      "source": [
        "print(3 in [1,2,3])   # True\n",
        "x = None\n",
        "print(x is None)      # True\n"
      ],
      "metadata": {
        "id": "b_l9uxWY40Bh"
      },
      "execution_count": null,
      "outputs": []
    },
    {
      "cell_type": "markdown",
      "source": [
        "##lambda\n",
        "- Función anónima (sin nombre)."
      ],
      "metadata": {
        "id": "f9t2nTH24yLT"
      }
    },
    {
      "cell_type": "code",
      "source": [
        "doble = lambda x: x*2\n",
        "print(doble(5))  # 10\n"
      ],
      "metadata": {
        "id": "TEKcB_h340jj"
      },
      "execution_count": null,
      "outputs": []
    },
    {
      "cell_type": "markdown",
      "source": [
        "##pass\n",
        "- Sirve para dejar algo vacío (placeholder)."
      ],
      "metadata": {
        "id": "XB4XCj-F4yFy"
      }
    },
    {
      "cell_type": "code",
      "source": [
        "def f():\n",
        "    pass  # no hace nada"
      ],
      "metadata": {
        "id": "kq3Xx06e405y"
      },
      "execution_count": null,
      "outputs": []
    },
    {
      "cell_type": "markdown",
      "source": [
        "##with\n",
        "- Sirve para manejar recursos (ejemplo: abrir archivos)."
      ],
      "metadata": {
        "id": "4l_wwNch4x_f"
      }
    },
    {
      "cell_type": "code",
      "source": [
        "with open(\"archivo.txt\", \"w\") as f:\n",
        "    f.write(\"Hola\")"
      ],
      "metadata": {
        "id": "diCqRtQk42HB"
      },
      "execution_count": null,
      "outputs": []
    },
    {
      "cell_type": "markdown",
      "source": [
        "##yield\n",
        "- Convierte una función en generador (produce valores poco a poco)."
      ],
      "metadata": {
        "id": "N8SwU-q94x5x"
      }
    },
    {
      "cell_type": "code",
      "source": [
        "def contador():\n",
        "    for i in range(3):\n",
        "        yield i\n",
        "for n in contador():\n",
        "    print(n)  # 0,1,2"
      ],
      "metadata": {
        "id": "CZ_xZc5y421X"
      },
      "execution_count": null,
      "outputs": []
    }
  ]
}