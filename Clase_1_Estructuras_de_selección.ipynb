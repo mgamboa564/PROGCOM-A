{
  "nbformat": 4,
  "nbformat_minor": 0,
  "metadata": {
    "colab": {
      "provenance": [],
      "authorship_tag": "ABX9TyNcj4ryb2qVNg3yIarPjQsf",
      "include_colab_link": true
    },
    "kernelspec": {
      "name": "python3",
      "display_name": "Python 3"
    },
    "language_info": {
      "name": "python"
    }
  },
  "cells": [
    {
      "cell_type": "markdown",
      "metadata": {
        "id": "view-in-github",
        "colab_type": "text"
      },
      "source": [
        "<a href=\"https://colab.research.google.com/github/mgamboa564/PROGCOM-A/blob/main/Clase_1_Estructuras_de_selecci%C3%B3n.ipynb\" target=\"_parent\"><img src=\"https://colab.research.google.com/assets/colab-badge.svg\" alt=\"Open In Colab\"/></a>"
      ]
    },
    {
      "cell_type": "markdown",
      "source": [
        "#Estructura de selección\n",
        "Se emplean cuando se debe evaluar una condición y esta da un valor de verdad (v) o(f)\n"
      ],
      "metadata": {
        "id": "jT_V-JnzwAwg"
      }
    },
    {
      "cell_type": "markdown",
      "source": [
        "##Estructura if-else\n",
        "\n",
        "\n",
        "```\n",
        "if (condition)\n",
        "  entro aqui, si la condicion es V\n",
        "else:\n",
        "  entro aqui, si la condicion es F\n",
        "\n",
        "```"
      ],
      "metadata": {
        "id": "w3eC75YxwG4k"
      }
    },
    {
      "cell_type": "code",
      "execution_count": 3,
      "metadata": {
        "id": "WrbSpfvYv6ux",
        "colab": {
          "base_uri": "https://localhost:8080/"
        },
        "outputId": "40d7b955-1d7f-4ce4-8539-a704069ea572"
      },
      "outputs": [
        {
          "output_type": "stream",
          "name": "stdout",
          "text": [
            "ingrese un número55\n",
            "55 es un número positivo\n"
          ]
        }
      ],
      "source": [
        "#Escribe un programa que reciba un numero e indentifique si es positivo\n",
        "n=int(input(\"ingrese un número\"))\n",
        "if n>0:\n",
        "    print(f\"{n}\", \"es un número positivo\")\n",
        "else:\n",
        "  print(n, \"es un número positivo\")"
      ]
    },
    {
      "cell_type": "markdown",
      "source": [
        "##Selección multiple if-elif-else\n",
        "\n",
        "\n",
        "```\n",
        "if (contición1):\n",
        "  si se cumple condición 1, entro aqui\n",
        "elif (condición2):\n",
        "  si no se cumple condicion 1,\n",
        "  pero se cumple condición 2,\n",
        "  entro aqui\n",
        "else:\n",
        "  si no se cumple ninguna de las anteriores\n",
        "```\n",
        "\n"
      ],
      "metadata": {
        "id": "5qlSORVGziAH"
      }
    },
    {
      "cell_type": "code",
      "source": [
        "if n>0:print(f\"{n} es un número positivo\")\n",
        "elif n<0:print(f\"{n} NO es un número positivo\")\n",
        "else: print(f\"{n} es 0\")"
      ],
      "metadata": {
        "colab": {
          "base_uri": "https://localhost:8080/"
        },
        "id": "ObFqs8v80uKB",
        "outputId": "56a38eb9-00f7-4ed5-aa33-d88e5cb53559"
      },
      "execution_count": 4,
      "outputs": [
        {
          "output_type": "stream",
          "name": "stdout",
          "text": [
            "55 es un número positivo\n"
          ]
        }
      ]
    },
    {
      "cell_type": "markdown",
      "source": [
        "##Operador terniario\n",
        "Se usa cuando hay una candición a\n",
        "evaluar simple y se desea\n",
        "resolver en una linea de codigo\n",
        "\n",
        "\n",
        "```\n",
        "(valor de verdad V) if\n",
        "(condición) else (valor de verdad F)\n",
        "```\n",
        "\n"
      ],
      "metadata": {
        "id": "3qO_6ShX1lbV"
      }
    },
    {
      "cell_type": "code",
      "source": [
        "print(f\"{n} es un número positivo\") if n>=0 else print(f\"{n} No es un número positivo\")"
      ],
      "metadata": {
        "colab": {
          "base_uri": "https://localhost:8080/"
        },
        "id": "zfyuwkdi2LXb",
        "outputId": "4c93ac91-d72d-4e47-90b9-48b1d591aa0a"
      },
      "execution_count": 8,
      "outputs": [
        {
          "output_type": "stream",
          "name": "stdout",
          "text": [
            "55 es un número positivo\n"
          ]
        }
      ]
    },
    {
      "cell_type": "code",
      "source": [
        "a=f\"{n} es un numero positivo\" if n>=0 else f\"{n} No es un numero positivo\"\n",
        "print(a)"
      ],
      "metadata": {
        "colab": {
          "base_uri": "https://localhost:8080/"
        },
        "id": "EqQqjrK_3e8z",
        "outputId": "999a22ad-e9ed-45a7-9677-4265c654d4dc"
      },
      "execution_count": 7,
      "outputs": [
        {
          "output_type": "stream",
          "name": "stdout",
          "text": [
            "55 es un numero positivo\n"
          ]
        }
      ]
    },
    {
      "cell_type": "markdown",
      "source": [
        "#if-else"
      ],
      "metadata": {
        "id": "Kh8PzF9J9Kmx"
      }
    },
    {
      "cell_type": "markdown",
      "source": [
        "##Mayor de edad"
      ],
      "metadata": {
        "id": "M_j0LTx3-W0m"
      }
    },
    {
      "cell_type": "code",
      "source": [
        "edad = int(input(\"Ingrese su edad: \"))\n",
        "if edad >= 18:\n",
        "    print(\"Es mayor de edad.\")\n",
        "else:\n",
        "    print(\"Es menor de edad.\")"
      ],
      "metadata": {
        "colab": {
          "base_uri": "https://localhost:8080/"
        },
        "id": "Pb2-wax_9JgO",
        "outputId": "3127ca67-a67f-41e9-a2bf-969552d8ce95"
      },
      "execution_count": 9,
      "outputs": [
        {
          "output_type": "stream",
          "name": "stdout",
          "text": [
            "Ingrese su edad: 20\n",
            "Es mayor de edad.\n"
          ]
        }
      ]
    },
    {
      "cell_type": "markdown",
      "source": [
        "##Mayor de dos números"
      ],
      "metadata": {
        "id": "9BGEM2pm-6Pw"
      }
    },
    {
      "cell_type": "code",
      "source": [
        "num1 = float(input(\"Ingrese el primer número: \"))\n",
        "num2 = float(input(\"Ingrese el segundo número: \"))\n",
        "if num1 > num2:\n",
        "    print(\"El mayor es:\", num1)\n",
        "else:\n",
        "    print(\"El mayor es:\", num2)"
      ],
      "metadata": {
        "colab": {
          "base_uri": "https://localhost:8080/"
        },
        "id": "K7MF3lmZ-_m3",
        "outputId": "db965d06-1cbc-4b89-fc09-cd7da1e9a568"
      },
      "execution_count": 11,
      "outputs": [
        {
          "output_type": "stream",
          "name": "stdout",
          "text": [
            "Ingrese el primer número: 2\n",
            "Ingrese el segundo número: 2\n",
            "El mayor es: 2.0\n"
          ]
        }
      ]
    },
    {
      "cell_type": "markdown",
      "source": [
        "##Calificación aprobada o reprobada"
      ],
      "metadata": {
        "id": "Imxvvw3__FSb"
      }
    },
    {
      "cell_type": "code",
      "source": [
        "calificacion = float(input(\"Ingrese la calificación (0-5.0): \"))\n",
        "if calificacion >= 3.0:\n",
        "    print(\"Aprobado\")\n",
        "else:\n",
        "    print(\"Reprobado\")"
      ],
      "metadata": {
        "colab": {
          "base_uri": "https://localhost:8080/"
        },
        "id": "F81hGBr__gDN",
        "outputId": "b71a9b92-3718-4a64-d4e4-504f2449bf03"
      },
      "execution_count": 16,
      "outputs": [
        {
          "output_type": "stream",
          "name": "stdout",
          "text": [
            "Ingrese la calificación (0-5.0): 4.0\n",
            "Aprobado\n"
          ]
        }
      ]
    },
    {
      "cell_type": "markdown",
      "source": [
        "##Número par o impar"
      ],
      "metadata": {
        "id": "8UWvzENAC38W"
      }
    },
    {
      "cell_type": "code",
      "source": [
        "numero = int(input(\"Ingrese un número: \"))\n",
        "if numero % 2 == 0:\n",
        "    print(\"El número es par\")\n",
        "else:\n",
        "    print(\"El número es impar\")"
      ],
      "metadata": {
        "id": "G8Ehf9XGDAYL"
      },
      "execution_count": null,
      "outputs": []
    },
    {
      "cell_type": "markdown",
      "source": [
        "#if-elif-else"
      ],
      "metadata": {
        "id": "b_1Mn_R7-icd"
      }
    },
    {
      "cell_type": "markdown",
      "source": [
        "##Mayor de edad"
      ],
      "metadata": {
        "id": "_WICPJMP_mnJ"
      }
    },
    {
      "cell_type": "code",
      "source": [
        "edad = int(input(\"Ingrese su edad: \"))\n",
        "if edad<0:\n",
        "    print(\"La edad no es valida\")\n",
        "elif edad >= 18:\n",
        "    print(\"Es mayor de edad.\")\n",
        "else:\n",
        "    print(\"Es menor de edad.\")"
      ],
      "metadata": {
        "colab": {
          "base_uri": "https://localhost:8080/"
        },
        "id": "GCJ0zRiH-oV7",
        "outputId": "45e1b9c9-2c64-451f-b902-c2405b74d215"
      },
      "execution_count": 19,
      "outputs": [
        {
          "output_type": "stream",
          "name": "stdout",
          "text": [
            "Ingrese su edad: 20\n",
            "Es mayor de edad.\n"
          ]
        }
      ]
    },
    {
      "cell_type": "markdown",
      "source": [
        "##Mayor de dos números"
      ],
      "metadata": {
        "id": "U-lASqD5_nbV"
      }
    },
    {
      "cell_type": "code",
      "source": [
        "a = float(input(\"Ingresa el primer número: \"))\n",
        "b = float(input(\"Ingresa el segundo número: \"))\n",
        "if a > b:\n",
        "    print(\"El mayor es:\", a)\n",
        "elif b > a:\n",
        "    print(\"El mayor es:\", b)\n",
        "else:\n",
        "    print(\"Ambos son iguales.\")"
      ],
      "metadata": {
        "colab": {
          "base_uri": "https://localhost:8080/"
        },
        "id": "jlvpbJxq_sRu",
        "outputId": "0cb01441-c304-4d78-fc91-64ba1bcd75a4"
      },
      "execution_count": 20,
      "outputs": [
        {
          "output_type": "stream",
          "name": "stdout",
          "text": [
            "Ingresa el primer número: 2\n",
            "Ingresa el segundo número: 2\n",
            "Ambos son iguales.\n"
          ]
        }
      ]
    },
    {
      "cell_type": "markdown",
      "source": [
        "##Calificación aprobada o reprobada"
      ],
      "metadata": {
        "id": "acDut1Uy_suj"
      }
    },
    {
      "cell_type": "code",
      "source": [
        "calificacion = float(input(\"Ingresa la calificación (0-5.0): \"))\n",
        "\n",
        "if calificacion >= 3.0:\n",
        "    print(\"Aprobado\")\n",
        "elif 2.9 <= calificacion < 3.0:\n",
        "    print(\"Casi aprobado\")\n",
        "else:\n",
        "    print(\"Reprobado\")\n"
      ],
      "metadata": {
        "colab": {
          "base_uri": "https://localhost:8080/"
        },
        "id": "ykolOcrN_yI4",
        "outputId": "0dd6c396-b83b-4e10-a9de-a051cad56d18"
      },
      "execution_count": 30,
      "outputs": [
        {
          "output_type": "stream",
          "name": "stdout",
          "text": [
            "Ingresa la calificación (0-5.0): 2.8\n",
            "Reprobado\n"
          ]
        }
      ]
    },
    {
      "cell_type": "markdown",
      "source": [
        "##Número par o impar"
      ],
      "metadata": {
        "id": "DcvtUU49DHGZ"
      }
    },
    {
      "cell_type": "code",
      "source": [
        "numero = int(input(\"Ingresa un número: \"))\n",
        "if numero == 0:\n",
        "    print(\"El número es cero.\")\n",
        "elif numero % 2 == 0:\n",
        "    print(\"El número es par.\")\n",
        "else:\n",
        "    print(\"El número es impar.\")"
      ],
      "metadata": {
        "colab": {
          "base_uri": "https://localhost:8080/"
        },
        "id": "rPGRreQPDH-l",
        "outputId": "1359ab92-8302-4552-b60c-0dcb3c225fdc"
      },
      "execution_count": 31,
      "outputs": [
        {
          "output_type": "stream",
          "name": "stdout",
          "text": [
            "Ingresa un número: 4\n",
            "El número es par.\n"
          ]
        }
      ]
    },
    {
      "cell_type": "markdown",
      "source": [
        "#Terniario"
      ],
      "metadata": {
        "id": "ikQFBjy3AyrX"
      }
    },
    {
      "cell_type": "markdown",
      "source": [
        "##Mayor de edad"
      ],
      "metadata": {
        "id": "yHsMiSIDA2sY"
      }
    },
    {
      "cell_type": "code",
      "source": [
        "edad = int(input(\"Ingrese su edad: \"))\n",
        "print(\"Mayor de edad\" if edad >= 18 else \"Menor de edad\")"
      ],
      "metadata": {
        "colab": {
          "base_uri": "https://localhost:8080/"
        },
        "id": "H7QLABZbA_Xj",
        "outputId": "032e9b14-a69a-464e-a2af-9ad2f8c42eaf"
      },
      "execution_count": 21,
      "outputs": [
        {
          "output_type": "stream",
          "name": "stdout",
          "text": [
            "Ingrese su edad: 34\n",
            "Mayor de edad\n"
          ]
        }
      ]
    },
    {
      "cell_type": "markdown",
      "source": [
        "##Mayor de dos números"
      ],
      "metadata": {
        "id": "bhWN2TzTA-mu"
      }
    },
    {
      "cell_type": "code",
      "source": [
        "a = int(input(\"Ingrese el primer número: \"))\n",
        "b = int(input(\"Ingrese el segundo número: \"))\n",
        "print(a if a > b else b)"
      ],
      "metadata": {
        "colab": {
          "base_uri": "https://localhost:8080/"
        },
        "id": "GxFLWm8AA-VU",
        "outputId": "53865997-d99e-4b50-f4f0-ea733ffc8483"
      },
      "execution_count": 23,
      "outputs": [
        {
          "output_type": "stream",
          "name": "stdout",
          "text": [
            "Ingrese el primer número: 3\n",
            "Ingrese el segundo número: 5\n",
            "5\n"
          ]
        }
      ]
    },
    {
      "cell_type": "markdown",
      "source": [
        "##Calificación aprobada o reprobada"
      ],
      "metadata": {
        "id": "JupeYYykBAEe"
      }
    },
    {
      "cell_type": "code",
      "source": [
        "nota = int(input(\"Ingrese la calificación (0-5.0): \"))\n",
        "print(\"Aprobado\" if nota >= '3.0' else \"Reprobado\")"
      ],
      "metadata": {
        "id": "_zZdnUYMBAgP"
      },
      "execution_count": null,
      "outputs": []
    },
    {
      "cell_type": "markdown",
      "source": [
        "##Número par o impar"
      ],
      "metadata": {
        "id": "WaXDce4gDJZ4"
      }
    },
    {
      "cell_type": "code",
      "source": [
        "num = int(input(\"Ingrese un número: \"))\n",
        "print(\"Par\" if num % 2 == 0 else \"Impar\")"
      ],
      "metadata": {
        "colab": {
          "base_uri": "https://localhost:8080/"
        },
        "id": "T7Z_HY3vDKZO",
        "outputId": "be3828ba-93d3-4ec4-b5eb-790b997fcc75"
      },
      "execution_count": 32,
      "outputs": [
        {
          "output_type": "stream",
          "name": "stdout",
          "text": [
            "Ingrese un número: 5\n",
            "Impar\n"
          ]
        }
      ]
    }
  ]
}