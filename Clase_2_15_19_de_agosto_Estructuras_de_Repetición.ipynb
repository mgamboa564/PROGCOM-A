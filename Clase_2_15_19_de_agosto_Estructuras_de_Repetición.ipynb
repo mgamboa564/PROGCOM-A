{
  "nbformat": 4,
  "nbformat_minor": 0,
  "metadata": {
    "colab": {
      "provenance": [],
      "authorship_tag": "ABX9TyMAbljYrh35X5B5mHpzOVy3",
      "include_colab_link": true
    },
    "kernelspec": {
      "name": "python3",
      "display_name": "Python 3"
    },
    "language_info": {
      "name": "python"
    }
  },
  "cells": [
    {
      "cell_type": "markdown",
      "metadata": {
        "id": "view-in-github",
        "colab_type": "text"
      },
      "source": [
        "<a href=\"https://colab.research.google.com/github/mgamboa564/PROGCOM-A/blob/main/Clase_2_15_19_de_agosto_Estructuras_de_Repetici%C3%B3n.ipynb\" target=\"_parent\"><img src=\"https://colab.research.google.com/assets/colab-badge.svg\" alt=\"Open In Colab\"/></a>"
      ]
    },
    {
      "cell_type": "markdown",
      "source": [
        "#Estructuras de Repetición\n",
        "Permite una o más acciones de acuerdo con una condición (mientras se cumpla la condición)"
      ],
      "metadata": {
        "id": "BkNzF9pGKI4N"
      }
    },
    {
      "cell_type": "markdown",
      "source": [
        "##Estructura para-for\n",
        "\n",
        "1. cuando se sabe cuantas veces se repite una acción.\n",
        "2. esta conformado por una condicion inicial (CI) una condicion final (CF) y pasos (frecuencia de repeticion).\n",
        "3. Esta estructura no se detendra, hasta alcanzar CF-1\n",
        "\n",
        "Estructura general del for\n",
        "```\n",
        "for (variable) in range (CI,CF+1,paso):\n",
        "  se repite (CF+1-CI)/paso veces una accion\n",
        "```\n",
        "\n",
        "Estructura resumida del for\n",
        "```\n",
        "for (variable) in range (cantidad):\n",
        "  se repite cantidad de veces una accion\n",
        "```\n",
        "\n",
        "Estructura for con iteraccion\n",
        "1. el para (for) itera tantas veces, como elementos tenga la lista.\n",
        "2. La variable toma el valor de cada elemento de la lista por interacion\n",
        "```\n",
        "lista=[1,2,3,4,5]\n",
        "for (variable) in lista:\n",
        "  se repite len(lista)\n",
        "```\n",
        "\n",
        "\n"
      ],
      "metadata": {
        "id": "MmLyHlOOQRjz"
      }
    },
    {
      "cell_type": "code",
      "execution_count": null,
      "metadata": {
        "id": "ctrYSGnwJp19",
        "colab": {
          "base_uri": "https://localhost:8080/"
        },
        "collapsed": true,
        "outputId": "27b39357-6ac8-4c86-92c3-0889d41d0b64"
      },
      "outputs": [
        {
          "output_type": "stream",
          "name": "stdout",
          "text": [
            "digita un numero: 5\n",
            "tabla del 5\n",
            "5 x 1 = 5\n",
            "5 x 2 = 10\n",
            "5 x 3 = 15\n",
            "5 x 4 = 20\n",
            "5 x 5 = 25\n",
            "5 x 6 = 30\n",
            "5 x 7 = 35\n",
            "5 x 8 = 40\n",
            "5 x 9 = 45\n",
            "5 x 10 = 50\n"
          ]
        }
      ],
      "source": [
        "#Hacer la tabla de multiplicar de un numero n\n",
        "\n",
        "n=int(input(\"digita un numero: \"))\n",
        "print(f\"tabla del {n}\")\n",
        "for holitas in range (1,11,1):\n",
        "    print(f\"{n} x {holitas} = {n*holitas}\")"
      ]
    },
    {
      "cell_type": "markdown",
      "source": [
        "Todas las tablas del 1-10"
      ],
      "metadata": {
        "id": "lneUsYTbVFQX"
      }
    },
    {
      "cell_type": "code",
      "source": [
        "for tabla in range(1, 11):  # Recorre del 1 al 10\n",
        "    print(f\"\\nTabla del {tabla}\")\n",
        "    for i in range(1, 11):  # Cada tabla del 1 al 10\n",
        "        print(f\"{tabla} x {i} = {tabla * i}\")"
      ],
      "metadata": {
        "colab": {
          "base_uri": "https://localhost:8080/"
        },
        "collapsed": true,
        "id": "p6LM69yUVFms",
        "outputId": "1e6c099d-b46a-4ebb-a89e-8398f487b522"
      },
      "execution_count": null,
      "outputs": [
        {
          "output_type": "stream",
          "name": "stdout",
          "text": [
            "\n",
            "Tabla del 1\n",
            "1 x 1 = 1\n",
            "1 x 2 = 2\n",
            "1 x 3 = 3\n",
            "1 x 4 = 4\n",
            "1 x 5 = 5\n",
            "1 x 6 = 6\n",
            "1 x 7 = 7\n",
            "1 x 8 = 8\n",
            "1 x 9 = 9\n",
            "1 x 10 = 10\n",
            "\n",
            "Tabla del 2\n",
            "2 x 1 = 2\n",
            "2 x 2 = 4\n",
            "2 x 3 = 6\n",
            "2 x 4 = 8\n",
            "2 x 5 = 10\n",
            "2 x 6 = 12\n",
            "2 x 7 = 14\n",
            "2 x 8 = 16\n",
            "2 x 9 = 18\n",
            "2 x 10 = 20\n",
            "\n",
            "Tabla del 3\n",
            "3 x 1 = 3\n",
            "3 x 2 = 6\n",
            "3 x 3 = 9\n",
            "3 x 4 = 12\n",
            "3 x 5 = 15\n",
            "3 x 6 = 18\n",
            "3 x 7 = 21\n",
            "3 x 8 = 24\n",
            "3 x 9 = 27\n",
            "3 x 10 = 30\n",
            "\n",
            "Tabla del 4\n",
            "4 x 1 = 4\n",
            "4 x 2 = 8\n",
            "4 x 3 = 12\n",
            "4 x 4 = 16\n",
            "4 x 5 = 20\n",
            "4 x 6 = 24\n",
            "4 x 7 = 28\n",
            "4 x 8 = 32\n",
            "4 x 9 = 36\n",
            "4 x 10 = 40\n",
            "\n",
            "Tabla del 5\n",
            "5 x 1 = 5\n",
            "5 x 2 = 10\n",
            "5 x 3 = 15\n",
            "5 x 4 = 20\n",
            "5 x 5 = 25\n",
            "5 x 6 = 30\n",
            "5 x 7 = 35\n",
            "5 x 8 = 40\n",
            "5 x 9 = 45\n",
            "5 x 10 = 50\n",
            "\n",
            "Tabla del 6\n",
            "6 x 1 = 6\n",
            "6 x 2 = 12\n",
            "6 x 3 = 18\n",
            "6 x 4 = 24\n",
            "6 x 5 = 30\n",
            "6 x 6 = 36\n",
            "6 x 7 = 42\n",
            "6 x 8 = 48\n",
            "6 x 9 = 54\n",
            "6 x 10 = 60\n",
            "\n",
            "Tabla del 7\n",
            "7 x 1 = 7\n",
            "7 x 2 = 14\n",
            "7 x 3 = 21\n",
            "7 x 4 = 28\n",
            "7 x 5 = 35\n",
            "7 x 6 = 42\n",
            "7 x 7 = 49\n",
            "7 x 8 = 56\n",
            "7 x 9 = 63\n",
            "7 x 10 = 70\n",
            "\n",
            "Tabla del 8\n",
            "8 x 1 = 8\n",
            "8 x 2 = 16\n",
            "8 x 3 = 24\n",
            "8 x 4 = 32\n",
            "8 x 5 = 40\n",
            "8 x 6 = 48\n",
            "8 x 7 = 56\n",
            "8 x 8 = 64\n",
            "8 x 9 = 72\n",
            "8 x 10 = 80\n",
            "\n",
            "Tabla del 9\n",
            "9 x 1 = 9\n",
            "9 x 2 = 18\n",
            "9 x 3 = 27\n",
            "9 x 4 = 36\n",
            "9 x 5 = 45\n",
            "9 x 6 = 54\n",
            "9 x 7 = 63\n",
            "9 x 8 = 72\n",
            "9 x 9 = 81\n",
            "9 x 10 = 90\n",
            "\n",
            "Tabla del 10\n",
            "10 x 1 = 10\n",
            "10 x 2 = 20\n",
            "10 x 3 = 30\n",
            "10 x 4 = 40\n",
            "10 x 5 = 50\n",
            "10 x 6 = 60\n",
            "10 x 7 = 70\n",
            "10 x 8 = 80\n",
            "10 x 9 = 90\n",
            "10 x 10 = 100\n"
          ]
        }
      ]
    },
    {
      "cell_type": "code",
      "source": [
        "print (f\"tabla del {n}\")\n",
        "for holitas in range (10):\n",
        "  print(f\"{n} x {holitas+1} = {n*(holitas)}\")"
      ],
      "metadata": {
        "colab": {
          "base_uri": "https://localhost:8080/"
        },
        "collapsed": true,
        "id": "lG9_aSNtVsqd",
        "outputId": "ecea3ada-559b-420f-896b-ea278ccf45dd"
      },
      "execution_count": null,
      "outputs": [
        {
          "output_type": "stream",
          "name": "stdout",
          "text": [
            "tabla del 3\n",
            "3 x 1 = 0\n",
            "3 x 2 = 3\n",
            "3 x 3 = 6\n",
            "3 x 4 = 9\n",
            "3 x 5 = 12\n",
            "3 x 6 = 15\n",
            "3 x 7 = 18\n",
            "3 x 8 = 21\n",
            "3 x 9 = 24\n",
            "3 x 10 = 27\n"
          ]
        }
      ]
    },
    {
      "cell_type": "markdown",
      "source": [
        "##Tabla de multiplicar en pasos"
      ],
      "metadata": {
        "id": "bVkgbrVGYd_o"
      }
    },
    {
      "cell_type": "code",
      "source": [
        "n = int(input(\"Ingresa el número para la tabla: \"))\n",
        "paso = int(input(\"Ingresa el paso: \"))\n",
        "print(f\"Tabla del {n} con paso {paso}\")\n",
        "for i in range(1, 11, paso):\n",
        "    print(f\"{n} x {i} = {n * i}\")"
      ],
      "metadata": {
        "colab": {
          "base_uri": "https://localhost:8080/"
        },
        "collapsed": true,
        "id": "KmmU5Og8YeO5",
        "outputId": "8ccd6924-d80d-49b0-acd6-cd3fe099c8a3"
      },
      "execution_count": null,
      "outputs": [
        {
          "output_type": "stream",
          "name": "stdout",
          "text": [
            "Ingresa el número para la tabla: 4\n",
            "Ingresa el paso: 3\n",
            "Tabla del 4 con paso 3\n",
            "4 x 1 = 4\n",
            "4 x 4 = 16\n",
            "4 x 7 = 28\n",
            "4 x 10 = 40\n"
          ]
        }
      ]
    },
    {
      "cell_type": "code",
      "source": [
        "numeros=[1,2,3,4,5,6,7,8,9,10]\n",
        "for num in numeros:\n",
        "  print(f\"{n} x {num}={n*num}\")"
      ],
      "metadata": {
        "colab": {
          "base_uri": "https://localhost:8080/"
        },
        "id": "jT2F-WLafH7y",
        "outputId": "032b32fe-4607-46bb-8c8e-ee198212ebd3"
      },
      "execution_count": null,
      "outputs": [
        {
          "output_type": "stream",
          "name": "stdout",
          "text": [
            "4 x 1=4\n",
            "4 x 2=8\n",
            "4 x 3=12\n",
            "4 x 4=16\n",
            "4 x 5=20\n",
            "4 x 6=24\n",
            "4 x 7=28\n",
            "4 x 8=32\n",
            "4 x 9=36\n",
            "4 x 10=40\n"
          ]
        }
      ]
    },
    {
      "cell_type": "markdown",
      "source": [
        "#listas\n",
        "\n",
        "1.⁠ ⁠es un tipo de datos\n",
        "2.⁠ ⁠Todos los elementos de una lista,\n",
        "**deben** separarse por comas\n",
        "3.⁠ ⁠Forma canónica para declarar una lista\n",
        "\n",
        "\n",
        "```\n",
        "(variable)=[]\n",
        "```\n",
        "ejemplo: flores=[\"amapola\", \"tulipan\", \"lengua de suegra\", l, dahlia, rosa]"
      ],
      "metadata": {
        "id": "e5gaGWO66yXQ"
      }
    },
    {
      "cell_type": "code",
      "source": [
        "dahlia= 3 #variable de tipo numérica, int\n",
        "rosa- \"cinco\"# variable de tipo alfanumérico, str\n",
        "flores-[\"amapola\", \"tulipan\", \"lengua de suegra\" dahlia, rosa]"
      ],
      "metadata": {
        "id": "x12KQsc67zR6"
      },
      "execution_count": null,
      "outputs": []
    },
    {
      "cell_type": "markdown",
      "source": [
        "4. manual\n",
        "\n",
        "```\n",
        "Lista2= [dato1,dato2, dato3...datoN]\n",
        "```\n",
        "5. Siempre son finitas\n",
        "6. son indexadas\n",
        "\n",
        "```\n",
        "Lista2= [dato1, dato2, dato3...datoN]\n",
        "```\n",
        "\n",
        "dato1 está en el index dato2 está ubicado en el index 2\n",
        "7. Estructuras para la creación de listas\n",
        "\n",
        "```\n",
        "# Ejemplo: Crear una lista de 5 elementos\n",
        "lista=[]#Para que el programa sepa que es una lista\n",
        "for loquesea in range (5):\n",
        "  lista=input(\"Ingrese el nombre de una flor\")\n",
        "```\n",
        "\n",
        "\n",
        "\n",
        "\n",
        "\n",
        "\n"
      ],
      "metadata": {
        "id": "lgZF_mwm8DIO"
      }
    },
    {
      "cell_type": "code",
      "source": [
        "lista=[]\n",
        "2 for loquesea in range (5):\n",
        "  lista=input(\"Ingrese el nombre de una flor\")"
      ],
      "metadata": {
        "id": "1pL1vp1y8F7W"
      },
      "execution_count": null,
      "outputs": []
    },
    {
      "cell_type": "markdown",
      "source": [
        "#EJERCICIOS\n",
        "\n",
        "##1. Imprimir los números del 1 al 10\n",
        "Con for normal:"
      ],
      "metadata": {
        "id": "3rzrmhmr-v-T"
      }
    },
    {
      "cell_type": "code",
      "source": [
        "for i in range(1, 11):\n",
        "    print(i)"
      ],
      "metadata": {
        "id": "4EQPMJpl_1Mu"
      },
      "execution_count": null,
      "outputs": []
    },
    {
      "cell_type": "markdown",
      "source": [
        "Con lista:"
      ],
      "metadata": {
        "id": "UhnItDtx_9GA"
      }
    },
    {
      "cell_type": "code",
      "source": [
        "numeros = [1,2,3,4,5,6,7,8,9,10]\n",
        "for n in numeros:\n",
        "    print(n)"
      ],
      "metadata": {
        "id": "-ndEa9StAC1u"
      },
      "execution_count": null,
      "outputs": []
    },
    {
      "cell_type": "markdown",
      "source": [
        "##2. Sumar los números del 1 al 100\n",
        "Con for normal:"
      ],
      "metadata": {
        "id": "39GT664EAOuC"
      }
    },
    {
      "cell_type": "code",
      "source": [
        "suma = 0\n",
        "for i in range(1, 101):\n",
        "    suma += i\n",
        "print(\"La suma es:\", suma)"
      ],
      "metadata": {
        "id": "USSkYKswAZjC"
      },
      "execution_count": null,
      "outputs": []
    },
    {
      "cell_type": "markdown",
      "source": [
        "Con lista:"
      ],
      "metadata": {
        "id": "5oDp-3erAaC_"
      }
    },
    {
      "cell_type": "code",
      "source": [
        "numeros = list(range(1, 101))\n",
        "print(\"La suma es:\", sum(numeros))"
      ],
      "metadata": {
        "id": "ZPpK52SCAlRu"
      },
      "execution_count": null,
      "outputs": []
    },
    {
      "cell_type": "markdown",
      "source": [
        "##3. Múltiplos de 3 entre 1 y 30\n",
        "Con for normal:"
      ],
      "metadata": {
        "id": "W-fyLwJLA3f7"
      }
    },
    {
      "cell_type": "code",
      "source": [
        "for i in range(3, 31, 3):\n",
        "    print(i)"
      ],
      "metadata": {
        "id": "6kxBmNe_A8Vj"
      },
      "execution_count": null,
      "outputs": []
    },
    {
      "cell_type": "markdown",
      "source": [
        "Con lista:"
      ],
      "metadata": {
        "id": "m8IJ7jpTAam-"
      }
    },
    {
      "cell_type": "code",
      "source": [
        "numeros = list(range(1, 31))\n",
        "for n in numeros:\n",
        "    if n % 3 == 0:\n",
        "        print(n)"
      ],
      "metadata": {
        "id": "CV0IC6gdBASG"
      },
      "execution_count": null,
      "outputs": []
    },
    {
      "cell_type": "markdown",
      "source": [
        "##4. Tabla de multiplicar de un número\n",
        "Con for normal:"
      ],
      "metadata": {
        "id": "ftg_xp1iBrdp"
      }
    },
    {
      "cell_type": "code",
      "source": [
        "n = int(input(\"Ingresa un número: \"))\n",
        "for i in range(1, 11):\n",
        "    print(f\"{n} x {i} = {n*i}\")"
      ],
      "metadata": {
        "id": "2j_GU1diBrzD"
      },
      "execution_count": null,
      "outputs": []
    },
    {
      "cell_type": "markdown",
      "source": [
        "Con lista:"
      ],
      "metadata": {
        "id": "afRqT3FnAbBK"
      }
    },
    {
      "cell_type": "code",
      "source": [
        "n = int(input(\"Ingresa un número: \"))\n",
        "lista = list(range(1, 11))\n",
        "for i in lista:\n",
        "    print(f\"{n} x {i} = {n*i}\")"
      ],
      "metadata": {
        "id": "zaTWN6sBC6PT"
      },
      "execution_count": null,
      "outputs": []
    },
    {
      "cell_type": "markdown",
      "source": [
        "##5. Promedio de 5 números\n",
        "Con for normal:"
      ],
      "metadata": {
        "id": "m1Vwb0AHC_D0"
      }
    },
    {
      "cell_type": "code",
      "source": [
        "suma = 0\n",
        "for i in range(5):\n",
        "    num = float(input(\"Ingresa un número: \"))\n",
        "    suma += num\n",
        "print(\"Promedio:\", suma/5)"
      ],
      "metadata": {
        "id": "tGSOaSoNDMRN"
      },
      "execution_count": null,
      "outputs": []
    },
    {
      "cell_type": "markdown",
      "source": [
        "Con lista:"
      ],
      "metadata": {
        "id": "wKb-LcUCAbY5"
      }
    },
    {
      "cell_type": "code",
      "source": [
        "numeros = []\n",
        "for i in range(5):\n",
        "    numeros.append(float(input(\"Ingresa un número: \")))\n",
        "print(\"Promedio:\", sum(numeros)/len(numeros))"
      ],
      "metadata": {
        "id": "ZQjIphjTDQCb"
      },
      "execution_count": null,
      "outputs": []
    },
    {
      "cell_type": "markdown",
      "source": [
        "##6. Contar números pares entre 1 y n\n",
        "Con for normal:"
      ],
      "metadata": {
        "id": "m9_7YwzeDSlv"
      }
    },
    {
      "cell_type": "code",
      "source": [
        "n = int(input(\"Ingresa un número: \"))\n",
        "contador = 0\n",
        "for i in range(1, n+1):\n",
        "    if i  2 == 0:\n",
        "        contador += 1\n",
        "print(\"Cantidad de pares:\", contador)"
      ],
      "metadata": {
        "id": "GxOy--HqDX7S"
      },
      "execution_count": null,
      "outputs": []
    },
    {
      "cell_type": "markdown",
      "source": [
        "Con lista:"
      ],
      "metadata": {
        "id": "e_7_s-fVAiF0"
      }
    },
    {
      "cell_type": "code",
      "source": [
        "n = int(input(\"Ingresa un número: \"))\n",
        "numeros = list(range(1, n+1))\n",
        "pares = [x for x in numeros if x % 2 == 0]\n",
        "print(\"Cantidad de pares:\", len(pares))"
      ],
      "metadata": {
        "id": "2rXB0cCkDap7"
      },
      "execution_count": null,
      "outputs": []
    }
  ]
}