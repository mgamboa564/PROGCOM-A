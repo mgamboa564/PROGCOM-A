{
  "nbformat": 4,
  "nbformat_minor": 0,
  "metadata": {
    "colab": {
      "provenance": [],
      "authorship_tag": "ABX9TyPBZeRYw6+BWBqqbr+bGKY0",
      "include_colab_link": true
    },
    "kernelspec": {
      "name": "python3",
      "display_name": "Python 3"
    },
    "language_info": {
      "name": "python"
    }
  },
  "cells": [
    {
      "cell_type": "markdown",
      "metadata": {
        "id": "view-in-github",
        "colab_type": "text"
      },
      "source": [
        "<a href=\"https://colab.research.google.com/github/mgamboa564/PROGCOM-A/blob/main/Clase_4_listas.ipynb\" target=\"_parent\"><img src=\"https://colab.research.google.com/assets/colab-badge.svg\" alt=\"Open In Colab\"/></a>"
      ]
    },
    {
      "cell_type": "markdown",
      "source": [
        "#Listas\n",
        "\n",
        "1. conjunto de datos\n",
        "2. es mutable(5000xp)\n",
        "3. tienen indexaccion\n"
      ],
      "metadata": {
        "id": "ZxRdncBFDnxU"
      }
    },
    {
      "cell_type": "code",
      "source": [
        "lista = [\"maria\",4,true,\"hola\"]\n",
        "lista[0]"
      ],
      "metadata": {
        "id": "elMQ40vwD_bT"
      },
      "execution_count": null,
      "outputs": []
    },
    {
      "cell_type": "markdown",
      "source": [
        "4. son ordenadas\n",
        "forma genetica\n"
      ],
      "metadata": {
        "id": "Yv-MKHnlERyx"
      }
    },
    {
      "cell_type": "code",
      "source": [
        "nombre de la lista =[e1,e2,e3...en]\n",
        "lista[0]"
      ],
      "metadata": {
        "id": "SP4TPRZWEhx5"
      },
      "execution_count": null,
      "outputs": []
    },
    {
      "cell_type": "code",
      "source": [
        "#obteniendo el ultimo elemento de la lista\n",
        "lista [len(lista)-1]"
      ],
      "metadata": {
        "id": "NXPgDCpUE9uW"
      },
      "execution_count": null,
      "outputs": []
    },
    {
      "cell_type": "code",
      "source": [
        "lista[-1]"
      ],
      "metadata": {
        "id": "CPt3zg8iFhS3"
      },
      "execution_count": null,
      "outputs": []
    },
    {
      "cell_type": "code",
      "source": [
        "lista[:2]"
      ],
      "metadata": {
        "id": "9C9_vFZ1F39H"
      },
      "execution_count": null,
      "outputs": []
    },
    {
      "cell_type": "code",
      "source": [
        "lista[1:4]"
      ],
      "metadata": {
        "id": "MlWxV0GaF_OD"
      },
      "execution_count": null,
      "outputs": []
    },
    {
      "cell_type": "code",
      "source": [
        "for i in lista:\n",
        "  #va a iterar 4 veces\n",
        "  #i va a tomar por vez el elemento de la lista\n",
        "  print(i)"
      ],
      "metadata": {
        "id": "-amRrJkUHO0n"
      },
      "execution_count": null,
      "outputs": []
    },
    {
      "cell_type": "code",
      "source": [
        "#lista por extencion:\n",
        "num=[1,2,3,4,5,6,7,8,9,10]\n",
        "#lista por comprension\n",
        "num2=list(range(1,11))\n",
        "print(numb2)"
      ],
      "metadata": {
        "id": "glnnCbgvHjLg"
      },
      "execution_count": null,
      "outputs": []
    },
    {
      "cell_type": "markdown",
      "source": [],
      "metadata": {
        "id": "s6hmWn0HH87D"
      }
    },
    {
      "cell_type": "markdown",
      "source": [
        "##listas por compresion\n",
        "forma nueva de generar listas a partir de una nueva expresion\n",
        "Sintaxis:\n",
        "\n",
        "\n",
        "```\n",
        "nombre_lista=[expresion for item in iterable if condition]\n",
        "```\n",
        "\n",
        "Donde:\n",
        "1. expresión: Es el valor que generará la nueva lista\n",
        "2. item: variable que representa cada elmento dentro de la iteración\n",
        "3. iterable: Cuántos elementos va a tener la nueva lista\n",
        "4. Condición; es opcional y se emplea si los elemento deben cumplir algo"
      ],
      "metadata": {
        "id": "Eh_mIewmH_4B"
      }
    },
    {
      "cell_type": "code",
      "source": [
        "#convertir una lista de oraciones en una lista de palabras\n",
        "oraciones=[\"aqui va una oracion\",\"aqui va otra oracion\",\"aqui va la tercera oracion\"]\n",
        "palabras=[i.split()for i in oraciones]\n",
        "palabras"
      ],
      "metadata": {
        "colab": {
          "base_uri": "https://localhost:8080/"
        },
        "id": "W2ZQ8X-9H7aN",
        "outputId": "2a806b4f-d71d-4111-c183-4ac8cbd005c6"
      },
      "execution_count": 16,
      "outputs": [
        {
          "output_type": "execute_result",
          "data": {
            "text/plain": [
              "[['aqui', 'va', 'una', 'oracion'],\n",
              " ['aqui', 'va', 'otra', 'oracion'],\n",
              " ['aqui', 'va', 'la', 'tercera', 'oracion']]"
            ]
          },
          "metadata": {},
          "execution_count": 16
        }
      ]
    },
    {
      "cell_type": "code",
      "source": [
        "#lista con los pares de num2\n",
        "pares=[num for num in num2 if num%2==0]\n",
        "pares"
      ],
      "metadata": {
        "id": "qDDH7v_XJ56z"
      },
      "execution_count": null,
      "outputs": []
    },
    {
      "cell_type": "code",
      "source": [
        "#clasificar si un numero es positivo o negativo\n",
        "numeros =[1,4,6,-20,-2,-69,4]\n",
        "lista2=[(n,\"positivo\") if n>0 else (n,\"negativo\")for n in numeros]\n",
        "lista2"
      ],
      "metadata": {
        "colab": {
          "base_uri": "https://localhost:8080/"
        },
        "id": "-YnGS5TqLwcS",
        "outputId": "a7b3407a-4e85-4c25-eabd-af8b069eb2d1"
      },
      "execution_count": 22,
      "outputs": [
        {
          "output_type": "execute_result",
          "data": {
            "text/plain": [
              "[(1, 'positivo'),\n",
              " (4, 'positivo'),\n",
              " (6, 'positivo'),\n",
              " (-20, 'negativo'),\n",
              " (-2, 'negativo'),\n",
              " (-69, 'negativo'),\n",
              " (4, 'positivo')]"
            ]
          },
          "metadata": {},
          "execution_count": 22
        }
      ]
    }
  ]
}