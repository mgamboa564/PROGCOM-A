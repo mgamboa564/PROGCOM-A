{
  "nbformat": 4,
  "nbformat_minor": 0,
  "metadata": {
    "colab": {
      "provenance": []
    },
    "kernelspec": {
      "name": "python3",
      "display_name": "Python 3"
    },
    "language_info": {
      "name": "python"
    }
  },
  "cells": [
    {
      "cell_type": "markdown",
      "source": [
        "#Prueba Diagnostica"
      ],
      "metadata": {
        "id": "8Kr3cTUsKsqj"
      }
    },
    {
      "cell_type": "markdown",
      "source": [
        "##Estructuras de selección\n",
        "Aquí se desarrollaran ejercicios sobre estructuras de selección\n",
        "\n",
        "Por PSeInt\n",
        "\n",
        "```\n",
        "si (condición) entonces:\n",
        "  pasan cosas divertidas ⏰\n",
        "\n",
        "sino:\n",
        "  llorelo ☹\n",
        "```\n",
        "\n",
        "por algoritmia\n",
        "1. solicito la variable y la almaceno en a\n",
        "2. comparo esa variable con otra llamada b"
      ],
      "metadata": {
        "id": "cO5eL4C9MB36"
      }
    },
    {
      "cell_type": "code",
      "execution_count": null,
      "metadata": {
        "id": "JrL8qoPHJwSp"
      },
      "outputs": [],
      "source": []
    }
  ]
}