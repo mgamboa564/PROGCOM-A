{
  "nbformat": 4,
  "nbformat_minor": 0,
  "metadata": {
    "colab": {
      "provenance": [],
      "authorship_tag": "ABX9TyPuXzwwy7dyGL+KiCLJujr0",
      "include_colab_link": true
    },
    "kernelspec": {
      "name": "python3",
      "display_name": "Python 3"
    },
    "language_info": {
      "name": "python"
    }
  },
  "cells": [
    {
      "cell_type": "markdown",
      "metadata": {
        "id": "view-in-github",
        "colab_type": "text"
      },
      "source": [
        "<a href=\"https://colab.research.google.com/github/mgamboa564/PROGCOM-A/blob/main/Quest_0_Prueba_Diagnostica.ipynb\" target=\"_parent\"><img src=\"https://colab.research.google.com/assets/colab-badge.svg\" alt=\"Open In Colab\"/></a>"
      ]
    },
    {
      "cell_type": "markdown",
      "source": [
        "#Prueba Diagnostica"
      ],
      "metadata": {
        "id": "8Kr3cTUsKsqj"
      }
    },
    {
      "cell_type": "markdown",
      "source": [
        "##Estructuras de selección\n",
        "Aquí se desarrollaran ejercicios sobre estructuras de selección\n",
        "\n",
        "Por PSeInt\n",
        "\n",
        "```\n",
        "si (condición) entonces:\n",
        "  pasan cosas divertidas ⏰\n",
        "\n",
        "sino:\n",
        "  llorelo ☹\n",
        "```\n",
        "\n",
        "por algoritmia\n",
        "1. solicito la variable y la almaceno en a\n",
        "2. comparo esa variable con otra llamada b"
      ],
      "metadata": {
        "id": "cO5eL4C9MB36"
      }
    },
    {
      "cell_type": "markdown",
      "source": [
        "#Parte 1: Estructuras de Decisión"
      ],
      "metadata": {
        "id": "HQ1h6lVeWaeJ"
      }
    },
    {
      "cell_type": "markdown",
      "source": [
        "1\n",
        "```\n",
        "Proceso NumeroPositivo\n",
        "\tDefinir num Como Real;\n",
        "\tEscribir \"escribe un numero:\";\n",
        "\tLeer num;\n",
        "\n",
        "\tSi num>0 Entonces\n",
        "\t\tEscribir \"el numero es positivo\";\n",
        "\tSiNo\n",
        "\t\tEscribir \"el numero no es positivo\";\n",
        "\tFinSi\n",
        "\n",
        "FinProceso\n",
        "\n",
        "```\n",
        "2\n",
        "```\n",
        "Proceso MayorDeEdad\n",
        "\tdefinir edad Como Entero;\n",
        "\tEscribir \"ingresar la edad\";\n",
        "\tLeer edad;\n",
        "\tSi edad >=18 Entonces\n",
        "\t\tEscribir \"la persona es mayor de edad\";\n",
        "\tSiNo\n",
        "\t\tEscribir \"la persona no es mayor de edad\";\n",
        "\tFinSi\n",
        "FinProceso\n",
        "\n",
        "```\n",
        "3\n",
        "```\n",
        "Proceso MayorDeDos\n",
        "\tDefinir a, b Como Real;\n",
        "\tEscribir \"Ingreseelprimernúmero:\";\n",
        "\tLeer a;\n",
        "\tEscribir \"Ingreseelsegundonúmero:\";\n",
        "\tLeer b;\n",
        "\tSi a>b Entonces\n",
        "\t\tEscribir \"elmayores:\", a;\n",
        "\tSiNo\n",
        "\t\tEscribir \"elmayores:\", b;\n",
        "\tFinSi\n",
        "FinProceso\n",
        "```\n",
        "\n",
        "\n",
        "\n"
      ],
      "metadata": {
        "id": "DRWwNHGvWsBq"
      }
    },
    {
      "cell_type": "markdown",
      "source": [
        "#Parte 2: Estructuras De Repetición\n",
        "\n",
        "\n",
        "1\n",
        "```\n",
        "Proceso Numerosa1a10\n",
        "definir i Como Entero;\n",
        "\tEscribir \"losnumerosde1a10son:\";\n",
        "\tPara i<-1 Hasta 10 Con Paso 1 Hacer\n",
        "\t\tEscribir i;\n",
        "\tFinPara\n",
        "FinProceso\n",
        "```\n",
        "\n"
      ],
      "metadata": {
        "id": "HWiqh5fibHA_"
      }
    },
    {
      "cell_type": "code",
      "source": [],
      "metadata": {
        "id": "WuFDtDXmWpxy"
      },
      "execution_count": null,
      "outputs": []
    }
  ]
}