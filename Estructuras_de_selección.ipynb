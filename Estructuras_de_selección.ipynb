{
  "nbformat": 4,
  "nbformat_minor": 0,
  "metadata": {
    "colab": {
      "provenance": [],
      "collapsed_sections": [
        "ua-zdh1Kw7DQ",
        "_cXJrGgKw7Ar",
        "b4cXyKv2w6-K"
      ],
      "authorship_tag": "ABX9TyNEy05u3e9fAZbnKDbqqGP2",
      "include_colab_link": true
    },
    "kernelspec": {
      "name": "python3",
      "display_name": "Python 3"
    },
    "language_info": {
      "name": "python"
    }
  },
  "cells": [
    {
      "cell_type": "markdown",
      "metadata": {
        "id": "view-in-github",
        "colab_type": "text"
      },
      "source": [
        "<a href=\"https://colab.research.google.com/github/mgamboa564/PROGCOM-A/blob/main/Estructuras_de_selecci%C3%B3n.ipynb\" target=\"_parent\"><img src=\"https://colab.research.google.com/assets/colab-badge.svg\" alt=\"Open In Colab\"/></a>"
      ]
    },
    {
      "cell_type": "markdown",
      "source": [
        "Continuación Estructuras de Selección"
      ],
      "metadata": {
        "id": "cNKz-S4Qw_8j"
      }
    },
    {
      "cell_type": "markdown",
      "source": [
        "#if-else"
      ],
      "metadata": {
        "id": "ua-zdh1Kw7DQ"
      }
    },
    {
      "cell_type": "markdown",
      "source": [
        "##Mayor de tres números"
      ],
      "metadata": {
        "id": "jhW6Sg9rxe2D"
      }
    },
    {
      "cell_type": "code",
      "source": [
        "a = float(input(\"Ingrese el primer número: \"))\n",
        "b = float(input(\"Ingrese el segundo número: \"))\n",
        "c = float(input(\"Ingrese el tercer número: \"))\n",
        "if a >= b and a >= c:\n",
        "    print(\"El mayor es:\", a)\n",
        "elif b >= a and b >= c:\n",
        "    print(\"El mayor es:\", b)\n",
        "else:\n",
        "    print(\"El mayor es:\", c)"
      ],
      "metadata": {
        "id": "VKNeTKfOw9Yt"
      },
      "execution_count": null,
      "outputs": []
    },
    {
      "cell_type": "markdown",
      "source": [
        "##Año bisiesto"
      ],
      "metadata": {
        "id": "ZjeV48ynxxtr"
      }
    },
    {
      "cell_type": "code",
      "source": [
        "year = int(input(\"Ingrese un año: \"))\n",
        "if (year % 4 == 0 and year % 100 != 0) or (year% 400 == 0):\n",
        "    print(\"Es un año bisiesto\")\n",
        "else:\n",
        "    print(\"No es un año bisiesto\")"
      ],
      "metadata": {
        "colab": {
          "base_uri": "https://localhost:8080/"
        },
        "id": "HVku2HZnxzGe",
        "outputId": "787b26c8-a2e8-4e09-aa52-3706e18adac9"
      },
      "execution_count": 1,
      "outputs": [
        {
          "output_type": "stream",
          "name": "stdout",
          "text": [
            "Ingrese un año: 2005\n",
            "No es un año bisiesto\n"
          ]
        }
      ]
    },
    {
      "cell_type": "markdown",
      "source": [
        "##Validación de contraseña"
      ],
      "metadata": {
        "id": "z7krc7ivxznc"
      }
    },
    {
      "cell_type": "code",
      "source": [
        "clave = input(\"Ingrese una contraseña: \")\n",
        "if len(clave) > 8:\n",
        "    tiene_numero = False\n",
        "    tiene_mayuscula = False\n",
        "    for caracter in clave:\n",
        "        if caracter.isdigit():\n",
        "            tiene_numero = True\n",
        "        if caracter.isupper():\n",
        "            tiene_mayuscula = True\n",
        "    if tiene_numero and tiene_mayuscula:\n",
        "        print(\"Contraseña válida\")\n",
        "    else:\n",
        "        print(\"La contraseña debe tener al menos un número y una letra mayúscula\")\n",
        "else:\n",
        "    print(\"La contraseña debe tener más de 8 caracteres\")"
      ],
      "metadata": {
        "id": "oy4ZFOrDx0RT"
      },
      "execution_count": null,
      "outputs": []
    },
    {
      "cell_type": "markdown",
      "source": [
        "##FizzBuzz"
      ],
      "metadata": {
        "id": "rWM0hoZRyY3X"
      }
    },
    {
      "cell_type": "code",
      "source": [
        "num = int(input(\"Ingrese un número: \"))\n",
        "if num % 3 == 0 and num % 5 == 0:\n",
        "    print(\"FizzBuzz\")\n",
        "elif num % 3 == 0:\n",
        "    print(\"Fizz\")\n",
        "elif num % 5 == 0:\n",
        "    print(\"Buzz\")\n",
        "else:\n",
        "    print(num)"
      ],
      "metadata": {
        "id": "jAJNXgcYyZWh"
      },
      "execution_count": null,
      "outputs": []
    },
    {
      "cell_type": "markdown",
      "source": [
        "##Cajero automático"
      ],
      "metadata": {
        "id": "yDLHhrVkyZ_c"
      }
    },
    {
      "cell_type": "code",
      "source": [
        "saldo = float(input(\"Ingrese el saldo disponible: \"))\n",
        "retiro = float(input(\"Ingrese el monto a retirar: \"))\n",
        "\n",
        "if retiro <= saldo:\n",
        "    print(\"Operación posible. Retire su dinero.\")\n",
        "else:\n",
        "    print(\"Fondos insuficientes.\")"
      ],
      "metadata": {
        "id": "5urcSk49yaa0"
      },
      "execution_count": null,
      "outputs": []
    },
    {
      "cell_type": "markdown",
      "source": [
        "#if-elif-else"
      ],
      "metadata": {
        "id": "_cXJrGgKw7Ar"
      }
    },
    {
      "cell_type": "markdown",
      "source": [
        "##Mayor de tres números"
      ],
      "metadata": {
        "id": "AsWh1ezzy6aM"
      }
    },
    {
      "cell_type": "code",
      "source": [
        "a = float(input(\"Ingresa el primer número: \"))\n",
        "b = float(input(\"Ingresa el segundo número: \"))\n",
        "c = float(input(\"Ingresa el tercer número: \"))\n",
        "if a >= b and a >= c:\n",
        "    print(\"El mayor es:\", a)\n",
        "elif b >= a and b >= c:\n",
        "    print(\"El mayor es:\", b)\n",
        "else:\n",
        "    print(\"El mayor es:\", c)"
      ],
      "metadata": {
        "id": "e5Homljow_Qv"
      },
      "execution_count": null,
      "outputs": []
    },
    {
      "cell_type": "markdown",
      "source": [
        "##Año bisiesto"
      ],
      "metadata": {
        "id": "xrE24BAOy6zh"
      }
    },
    {
      "cell_type": "code",
      "source": [
        "year = int(input(\"Ingresa un año: \"))\n",
        "\n",
        "if year % 400 == 0:\n",
        "    print(\"Es bisiesto.\")\n",
        "elif year % 100 == 0:\n",
        "    print(\"No es bisiesto.\")\n",
        "elif year % 4 == 0:\n",
        "    print(\"Es bisiesto.\")\n",
        "else:\n",
        "    print(\"No es bisiesto.\")\n"
      ],
      "metadata": {
        "colab": {
          "base_uri": "https://localhost:8080/"
        },
        "id": "btlaqFBWy9I9",
        "outputId": "563e45e8-3255-4adc-acb2-accdfcce50c4"
      },
      "execution_count": 2,
      "outputs": [
        {
          "output_type": "stream",
          "name": "stdout",
          "text": [
            "Ingresa un año: 5768\n",
            "Es bisiesto.\n"
          ]
        }
      ]
    },
    {
      "cell_type": "markdown",
      "source": [
        "##Validación de contraseña"
      ],
      "metadata": {
        "id": "bC0u60sYy7Tx"
      }
    },
    {
      "cell_type": "code",
      "source": [
        "contrasena = input(\"Ingresa una contraseña: \")\n",
        "if len(contrasena) < 8:\n",
        "    print(\"La contraseña es inválida: debe tener más de 8 caracteres.\")\n",
        "elif not any(c.isdigit() for c in contrasena):\n",
        "    print(\"La contraseña es inválida: debe contener al menos un número.\")\n",
        "elif not any(c.isupper() for c in contrasena):\n",
        "    print(\"La contraseña es inválida: debe contener al menos una letra mayúscula.\")\n",
        "else:\n",
        "    print(\"La contraseña es válida.\")"
      ],
      "metadata": {
        "id": "GMzfgeEfy9rN"
      },
      "execution_count": null,
      "outputs": []
    },
    {
      "cell_type": "markdown",
      "source": [
        "##FizzBuzz"
      ],
      "metadata": {
        "id": "k2L-5hJyy8Jx"
      }
    },
    {
      "cell_type": "code",
      "source": [
        "n = int(input(\"Ingresa un número: \"))\n",
        "if n % 3 == 0 and n % 5 == 0:\n",
        "    print(\"FizzBuzz\")\n",
        "elif n % 3 == 0:\n",
        "    print(\"Fizz\")\n",
        "elif n % 5 == 0:\n",
        "    print(\"Buzz\")\n",
        "else:\n",
        "    print(n)"
      ],
      "metadata": {
        "id": "0ufT3eO3y-S1"
      },
      "execution_count": null,
      "outputs": []
    },
    {
      "cell_type": "markdown",
      "source": [
        "##Cajero automático"
      ],
      "metadata": {
        "id": "nk1pAjMzy77X"
      }
    },
    {
      "cell_type": "code",
      "source": [
        "saldo = float(input(\"Ingresa tu saldo disponible: \"))\n",
        "monto = float(input(\"Ingresa el monto a retirar: \"))\n",
        "if monto > saldo:\n",
        "    print(\"Operación no posible: saldo insuficiente.\")\n",
        "elif monto <= 0:\n",
        "    print(\"El monto debe ser mayor que cero.\")\n",
        "else:\n",
        "    print(\"Retiro exitoso. Nuevo saldo:\", saldo - monto)"
      ],
      "metadata": {
        "id": "uA9n7WEhy_nl"
      },
      "execution_count": null,
      "outputs": []
    },
    {
      "cell_type": "markdown",
      "source": [
        "#Terniario"
      ],
      "metadata": {
        "id": "b4cXyKv2w6-K"
      }
    },
    {
      "cell_type": "markdown",
      "source": [
        "##Mayor de tres números"
      ],
      "metadata": {
        "id": "V6s2LIHzxnW7"
      }
    },
    {
      "cell_type": "code",
      "source": [
        "x = int(input(\"Ingrese el primer número: \"))\n",
        "y = int(input(\"Ingrese el segundo número: \"))\n",
        "z = int(input(\"Ingrese el tercer número: \"))\n",
        "print(x if (x >= y and x >= z) else (y if y >= z else z))"
      ],
      "metadata": {
        "id": "znr9TBbjw-7Z"
      },
      "execution_count": null,
      "outputs": []
    },
    {
      "cell_type": "markdown",
      "source": [
        "##Año bisiesto"
      ],
      "metadata": {
        "id": "MfhuLWY30Oe1"
      }
    },
    {
      "cell_type": "code",
      "source": [
        "year = int(input(\"Ingrese un año: \"))\n",
        "print(\"Bisiesto\" if (year % 4 == 0 and (year % 100 != 0 or year % 400 == 0)) else \"No bisiesto\")"
      ],
      "metadata": {
        "colab": {
          "base_uri": "https://localhost:8080/"
        },
        "id": "hFuAF95H0O1j",
        "outputId": "95e0f31e-b08a-4df1-95df-d464b459d2a8"
      },
      "execution_count": 3,
      "outputs": [
        {
          "output_type": "stream",
          "name": "stdout",
          "text": [
            "Ingrese un año: 5647\n",
            "No bisiesto\n"
          ]
        }
      ]
    },
    {
      "cell_type": "markdown",
      "source": [
        "##Validar contraseña"
      ],
      "metadata": {
        "id": "vnl4e4Aw0PZG"
      }
    },
    {
      "cell_type": "code",
      "source": [
        "clave_correcta = \"secreta123\"\n",
        "clave_ingresada = input(\"Ingresa la contraseña: \")\n",
        "print(\"Acceso permitido\" if clave_ingresada == clave_correcta else \"Acceso denegado\")"
      ],
      "metadata": {
        "colab": {
          "base_uri": "https://localhost:8080/"
        },
        "id": "EsCb60Lj0Pue",
        "outputId": "caa5b971-c286-446c-df59-d7acf1da0557"
      },
      "execution_count": 7,
      "outputs": [
        {
          "output_type": "stream",
          "name": "stdout",
          "text": [
            "Ingresa la contraseña: kdjdjd\n",
            "Acceso denegado\n"
          ]
        }
      ]
    },
    {
      "cell_type": "markdown",
      "source": [
        "##FizzBuzz"
      ],
      "metadata": {
        "id": "nUruskag0QRM"
      }
    },
    {
      "cell_type": "code",
      "source": [
        "n = int(input(\"Ingrese un número: \"))\n",
        "print(\"FizzBuzz\" if n % 3 == 0 and n % 5 == 0 else (\"Fizz\" if n % 3 == 0 else (\"Buzz\" if n % 5 == 0 else n)))"
      ],
      "metadata": {
        "colab": {
          "base_uri": "https://localhost:8080/"
        },
        "id": "uhUhpNgP0QsN",
        "outputId": "e539227e-3bfe-4464-9ddb-e6f448bf26c5"
      },
      "execution_count": 9,
      "outputs": [
        {
          "output_type": "stream",
          "name": "stdout",
          "text": [
            "Ingrese un número: 100\n",
            "Buzz\n"
          ]
        }
      ]
    },
    {
      "cell_type": "markdown",
      "source": [
        "##Cajero automático"
      ],
      "metadata": {
        "id": "YIAlPr6c0R8L"
      }
    },
    {
      "cell_type": "code",
      "source": [
        "saldo = float(input(\"Ingrese el saldo disponible: \"))\n",
        "retiro = float(input(\"Ingrese el monto a retirar: \"))\n",
        "print(\"Operación exitosa\" if retiro <= saldo else \"Fondos insuficientes\")"
      ],
      "metadata": {
        "colab": {
          "base_uri": "https://localhost:8080/"
        },
        "id": "wNgNV3200SSM",
        "outputId": "1d1dbf32-487d-4610-a629-a35293252276"
      },
      "execution_count": 10,
      "outputs": [
        {
          "output_type": "stream",
          "name": "stdout",
          "text": [
            "Ingrese el saldo disponible: 5000000\n",
            "Ingrese el monto a retirar: 567000\n",
            "Operación exitosa\n"
          ]
        }
      ]
    }
  ]
}