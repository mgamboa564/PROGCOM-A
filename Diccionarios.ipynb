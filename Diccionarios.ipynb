{
  "nbformat": 4,
  "nbformat_minor": 0,
  "metadata": {
    "colab": {
      "provenance": [],
      "authorship_tag": "ABX9TyM3uplZVAjjyqnVHCYCoEqX",
      "include_colab_link": true
    },
    "kernelspec": {
      "name": "python3",
      "display_name": "Python 3"
    },
    "language_info": {
      "name": "python"
    }
  },
  "cells": [
    {
      "cell_type": "markdown",
      "metadata": {
        "id": "view-in-github",
        "colab_type": "text"
      },
      "source": [
        "<a href=\"https://colab.research.google.com/github/mgamboa564/PROGCOM-A/blob/main/Diccionarios.ipynb\" target=\"_parent\"><img src=\"https://colab.research.google.com/assets/colab-badge.svg\" alt=\"Open In Colab\"/></a>"
      ]
    },
    {
      "cell_type": "markdown",
      "source": [
        "#DICCIONARIOS\n",
        "Un tipo de dato que tiene las siguientes carecteristicas\n",
        "\n",
        "```\n",
        "Nombre_dict={}\n",
        "dict2={\"clave\": valor}\n",
        "```\n",
        "- la \"clave o llave\" siempre es alfanumerica\n",
        "- valor: puede ser cualquier tipo de dato\n",
        "\n",
        "posee las siguientes caracteristicas\n",
        "\n",
        "1. no tiene indexacion"
      ],
      "metadata": {
        "id": "xllQ9nRte7-p"
      }
    },
    {
      "cell_type": "code",
      "source": [
        " lista=list(range(1,11))\n",
        " lista[0]"
      ],
      "metadata": {
        "id": "xqHwBOtrfQkF"
      },
      "execution_count": null,
      "outputs": []
    },
    {
      "cell_type": "code",
      "execution_count": null,
      "metadata": {
        "id": "NMl_0QJ6e4M2"
      },
      "outputs": [],
      "source": [
        "liga_justicia={\"superheroes\":[\"superman\",\"batman\",\"wonder woman\"],\"villanos\":[\"lex luthor\",\"jocker\",\"cheetah\",\"darkseid\", \"doomsday\"],\"identidad secreta\":[\"clarck kent\",\"bruce wayne\",\"diana prince\"],\"aliados\": [\"flash\", \"green lantern\"]}"
      ]
    },
    {
      "cell_type": "code",
      "source": [
        "type(liga_justicia)"
      ],
      "metadata": {
        "id": "2cUkW3sthITD"
      },
      "execution_count": null,
      "outputs": []
    },
    {
      "cell_type": "code",
      "source": [
        "liga_justicia"
      ],
      "metadata": {
        "id": "ESZkDeKohMYg"
      },
      "execution_count": null,
      "outputs": []
    },
    {
      "cell_type": "code",
      "source": [
        "liga_justicia[\"superheroes\"]"
      ],
      "metadata": {
        "id": "44mtkbITiGSj"
      },
      "execution_count": null,
      "outputs": []
    },
    {
      "cell_type": "markdown",
      "source": [
        "2. puede almacenar cualquier tipo de valor\n",
        "3. es mutable"
      ],
      "metadata": {
        "id": "r2rocPfyiFxp"
      }
    },
    {
      "cell_type": "code",
      "source": [
        "print(f\"la identidad secreta de {liga_justicia[superheroes]} {[1]} es {liga_justicia[superheroes]}{1}\")"
      ],
      "metadata": {
        "id": "11cJMxBZjxb4"
      },
      "execution_count": null,
      "outputs": []
    },
    {
      "cell_type": "markdown",
      "source": [
        "1. .keys(): metodo de los diccionarios que me permite adquir todas las llaves o claves del diccionario"
      ],
      "metadata": {
        "id": "--h5d-BUlgOM"
      }
    },
    {
      "cell_type": "code",
      "source": [
        "print(liga_justicia.keys())"
      ],
      "metadata": {
        "id": "aXqN9njhlZpz"
      },
      "execution_count": null,
      "outputs": []
    },
    {
      "cell_type": "markdown",
      "source": [
        "2. .values():\n",
        "Son los datos asociados a cada llave. Pueden repetirse y ser de cualquier tipo (listas, cadenas, números, etc.)."
      ],
      "metadata": {
        "id": "7ESgP8HPoRfz"
      }
    },
    {
      "cell_type": "code",
      "source": [
        ".print(liga_justicia.values())"
      ],
      "metadata": {
        "id": "zkh3aq0-nRV3"
      },
      "execution_count": null,
      "outputs": []
    },
    {
      "cell_type": "markdown",
      "source": [
        "3. .items()"
      ],
      "metadata": {
        "id": "eyfqp1hopU9M"
      }
    },
    {
      "cell_type": "code",
      "source": [
        "print(liga_justicia.items())"
      ],
      "metadata": {
        "id": "VGf8qGExpVT6"
      },
      "execution_count": null,
      "outputs": []
    },
    {
      "cell_type": "markdown",
      "source": [
        "4. .get(): Devuelve el valor de una llave sin generar error si no existe.\n",
        "Puedes poner un valor por defecto en caso de que la clave no esté."
      ],
      "metadata": {
        "id": "1DAQ8z0bpVtx"
      }
    },
    {
      "cell_type": "code",
      "source": [
        "print(liga_justicia.get(\"superheroes\"))\n",
        "print(liga_justicia.get(\"aliados\", \"No existe esta clave\"))"
      ],
      "metadata": {
        "id": "ATOup66ypWBo"
      },
      "execution_count": null,
      "outputs": []
    },
    {
      "cell_type": "markdown",
      "source": [
        "5. .setdefault(): Busca una llave:\n",
        "- Si existe, devuelve su valor.\n",
        "- Si no existe, la crea con un valor por defecto."
      ],
      "metadata": {
        "id": "OFGI_Y4Bq1LU"
      }
    },
    {
      "cell_type": "code",
      "source": [
        "liga_justicia.setdefault(\"aliados\", [\"flash\", \"green lantern\"])\n",
        "print(liga_justicia)"
      ],
      "metadata": {
        "id": "vor-DVSfq1yw"
      },
      "execution_count": null,
      "outputs": []
    },
    {
      "cell_type": "markdown",
      "source": [
        "6. .update(): Sirve para modificar un valor de una clave existente o agregar un nuevo par clave:valor."
      ],
      "metadata": {
        "id": "dbDcEbiYrIq4"
      }
    },
    {
      "cell_type": "code",
      "source": [
        "liga_justicia.update({\"villanos\": [\"darkseid\", \"doomsday\"]})\n",
        "print(liga_justicia[\"villanos\"])"
      ],
      "metadata": {
        "id": "T6c9YDa3rMhr"
      },
      "execution_count": null,
      "outputs": []
    },
    {
      "cell_type": "markdown",
      "source": [
        "7. .pop(): Elimina una clave del diccionario y devuelve su valor.\n",
        "Si la clave no existe y no das un valor por defecto → da error."
      ],
      "metadata": {
        "id": "A3Cvq_JSrMNc"
      }
    },
    {
      "cell_type": "code",
      "source": [
        "eliminado = liga_justicia.pop(\"identidad secreta\")\n",
        "print(eliminado)"
      ],
      "metadata": {
        "id": "-rjKnqrRrM1l"
      },
      "execution_count": null,
      "outputs": []
    },
    {
      "cell_type": "markdown",
      "source": [
        "8. .popitem(): Elimina y devuelve el último par clave:valor agregado.\n",
        "Se usa cuando quieres trabajar el diccionario como si fuera una pila (LIFO).\n"
      ],
      "metadata": {
        "id": "-Yg-mcZprqyB"
      }
    },
    {
      "cell_type": "code",
      "source": [
        "ultimo = liga_justicia.popitem()\n",
        "print(ultimo)"
      ],
      "metadata": {
        "id": "OsIJTDf1rrGp"
      },
      "execution_count": null,
      "outputs": []
    },
    {
      "cell_type": "markdown",
      "source": [
        "9. .clear(): Borra todos los elementos del diccionario, dejándolo vacío."
      ],
      "metadata": {
        "id": "lNCGlDtZrqoB"
      }
    },
    {
      "cell_type": "code",
      "source": [
        "liga_justicia.clear()\n",
        "print(liga_justicia)"
      ],
      "metadata": {
        "id": "igFISLeLrrm4"
      },
      "execution_count": null,
      "outputs": []
    },
    {
      "cell_type": "markdown",
      "source": [
        "10. .copy(): Crea una copia independiente del diccionario.\n",
        "Sirve para trabajar sobre una copia sin modificar el original."
      ],
      "metadata": {
        "id": "gWWT8Eksrqbx"
      }
    },
    {
      "cell_type": "code",
      "source": [
        "copia = liga_justicia.copy()\n",
        "print(copia)"
      ],
      "metadata": {
        "id": "VFcPgsy1rsOB"
      },
      "execution_count": null,
      "outputs": []
    },
    {
      "cell_type": "markdown",
      "source": [
        "11. .fromkeys(): Crea un nuevo diccionario a partir de una lista de claves, todas con el mismo valor."
      ],
      "metadata": {
        "id": "PcxaLUWorqRO"
      }
    },
    {
      "cell_type": "code",
      "source": [
        "nuevo = dict.fromkeys([\"heroe1\", \"heroe2\"], \"desconocido\")\n",
        "print(nuevo)"
      ],
      "metadata": {
        "id": "l71bvG0wrs5Y"
      },
      "execution_count": null,
      "outputs": []
    }
  ]
}