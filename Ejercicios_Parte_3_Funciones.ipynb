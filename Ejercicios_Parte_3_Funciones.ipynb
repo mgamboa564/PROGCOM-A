{
  "nbformat": 4,
  "nbformat_minor": 0,
  "metadata": {
    "colab": {
      "provenance": [],
      "authorship_tag": "ABX9TyPuL8z28F+Tpx9/V+g+JMzB",
      "include_colab_link": true
    },
    "kernelspec": {
      "name": "python3",
      "display_name": "Python 3"
    },
    "language_info": {
      "name": "python"
    }
  },
  "cells": [
    {
      "cell_type": "markdown",
      "metadata": {
        "id": "view-in-github",
        "colab_type": "text"
      },
      "source": [
        "<a href=\"https://colab.research.google.com/github/mgamboa564/PROGCOM-A/blob/main/Ejercicios_Parte_3_Funciones.ipynb\" target=\"_parent\"><img src=\"https://colab.research.google.com/assets/colab-badge.svg\" alt=\"Open In Colab\"/></a>"
      ]
    },
    {
      "cell_type": "markdown",
      "source": [
        "#Ejercicios Parte 3: Funciones"
      ],
      "metadata": {
        "id": "rXt6ZVKTun16"
      }
    },
    {
      "cell_type": "markdown",
      "source": [
        "# Ejercicio 1: Cuadrado de un número\n",
        "## 1. Sin parámetros, sin retorno"
      ],
      "metadata": {
        "id": "mvMJ_7Uour5x"
      }
    },
    {
      "cell_type": "code",
      "execution_count": null,
      "metadata": {
        "id": "jASBhR102v0Z",
        "colab": {
          "base_uri": "https://localhost:8080/"
        },
        "outputId": "1e914c31-01c6-45a4-98db-fde6c8b52c17"
      },
      "outputs": [
        {
          "output_type": "stream",
          "name": "stdout",
          "text": [
            "Ingrese un número: 5\n",
            "El cuadrado de 5 es 25\n"
          ]
        }
      ],
      "source": [
        "def cuadrado():\n",
        "    n = int(input(\"Ingrese un número: \"))\n",
        "    print(f\"El cuadrado de {n} es {n**2}\")\n",
        "cuadrado()"
      ]
    },
    {
      "cell_type": "markdown",
      "source": [
        "## 2. Sin parámetros, con retorno"
      ],
      "metadata": {
        "id": "s1al17Zdu8SR"
      }
    },
    {
      "cell_type": "code",
      "source": [
        "def cuadrado2():\n",
        "    n = int(input(\"Ingrese un número: \"))\n",
        "    return n**2\n",
        "resultado = cuadrado2()\n",
        "print(\"El cuadrado es:\", resultado)"
      ],
      "metadata": {
        "colab": {
          "base_uri": "https://localhost:8080/"
        },
        "id": "0l82WF4Qu_gF",
        "outputId": "8474d3b1-85ca-4154-f786-8404d096b25c"
      },
      "execution_count": null,
      "outputs": [
        {
          "output_type": "stream",
          "name": "stdout",
          "text": [
            "Ingrese un número: 5\n",
            "El cuadrado es: 25\n"
          ]
        }
      ]
    },
    {
      "cell_type": "markdown",
      "source": [
        "##3. Con parámetros, sin retorno"
      ],
      "metadata": {
        "id": "NwsMHMqjvArL"
      }
    },
    {
      "cell_type": "code",
      "source": [
        "def cuadrado3(n):\n",
        "    print(f\"El cuadrado de {n} es {n**2}\")\n",
        "cuadrado3(5)"
      ],
      "metadata": {
        "colab": {
          "base_uri": "https://localhost:8080/"
        },
        "id": "DbiVRO4cvFgs",
        "outputId": "673149f8-71f8-45ba-eb41-7f0006724b1a"
      },
      "execution_count": null,
      "outputs": [
        {
          "output_type": "stream",
          "name": "stdout",
          "text": [
            "El cuadrado de 5 es 25\n"
          ]
        }
      ]
    },
    {
      "cell_type": "markdown",
      "source": [
        "## 4. Con parámetros, con retorno"
      ],
      "metadata": {
        "id": "vwgmWCwgvAmO"
      }
    },
    {
      "cell_type": "code",
      "source": [
        "def cuadrado4(n):\n",
        "    return n**2\n",
        "print(\"El cuadrado es:\", cuadrado4(7))"
      ],
      "metadata": {
        "colab": {
          "base_uri": "https://localhost:8080/"
        },
        "id": "AuRTAVdvvMrE",
        "outputId": "d48a2a49-4f4c-406b-d015-acd44b04019c"
      },
      "execution_count": null,
      "outputs": [
        {
          "output_type": "stream",
          "name": "stdout",
          "text": [
            "El cuadrado es: 49\n"
          ]
        }
      ]
    },
    {
      "cell_type": "markdown",
      "source": [
        "## 5. LAMBDA"
      ],
      "metadata": {
        "id": "WviXWmrgvAh_"
      }
    },
    {
      "cell_type": "code",
      "source": [
        "cuadrado_lambda = lambda n: n**2\n",
        "print(\"El cuadrado es:\", cuadrado_lambda(9))"
      ],
      "metadata": {
        "colab": {
          "base_uri": "https://localhost:8080/"
        },
        "id": "zKL85dJZvSVH",
        "outputId": "fe748e18-b5eb-4399-b87a-8f6aa96c096a"
      },
      "execution_count": null,
      "outputs": [
        {
          "output_type": "stream",
          "name": "stdout",
          "text": [
            "El cuadrado es: 81\n"
          ]
        }
      ]
    },
    {
      "cell_type": "markdown",
      "source": [
        "#Ejercicio 2: Saludo aleatorio\n",
        "\n",
        "lista de saludos para usar en las funciones"
      ],
      "metadata": {
        "id": "KpK_JSodvAd6"
      }
    },
    {
      "cell_type": "code",
      "source": [
        "import random\n",
        "saludos = [\n",
        "    \"¡Hola\", \"¡Qué más\", \"¡Buen día\", \"¡Saludos\", \"¡Hey\",\n",
        "    \"¡Holi\", \"¡Todo bien\", \"¡Epa\", \"¡Genio\", \"¡Master\",\n",
        "    \"¡Bro\", \"¡Señor\", \"¡Amigo\", \"¡Compa\", \"¡Qué onda\",\n",
        "    \"¡Crack\", \"¡Bienvenido\", \"¡Encantado\", \"¡Buenas\", \"¡Mucho gusto\"\n",
        "]"
      ],
      "metadata": {
        "id": "SwQdRyOiv2WJ"
      },
      "execution_count": null,
      "outputs": []
    },
    {
      "cell_type": "markdown",
      "source": [
        "##1. Sin parámetros, sin retorno"
      ],
      "metadata": {
        "id": "5PD_PRc0v2Fb"
      }
    },
    {
      "cell_type": "code",
      "source": [
        "def saludo1():\n",
        "    nombre = input(\"Ingrese su nombre: \")\n",
        "    print(f\"{random.choice(saludos)} {nombre}!\")"
      ],
      "metadata": {
        "collapsed": true,
        "id": "FFE4jXUtvhR1"
      },
      "execution_count": null,
      "outputs": []
    },
    {
      "cell_type": "markdown",
      "source": [
        "# 2. Sin parámetros, con retorno"
      ],
      "metadata": {
        "id": "ERvDTNQPvAZn"
      }
    },
    {
      "cell_type": "code",
      "source": [
        "def saludo2():\n",
        "    nombre = input(\"Ingrese su nombre: \")\n",
        "    return f\"{random.choice(saludos)} {nombre}!\""
      ],
      "metadata": {
        "id": "QzehGnJXvhow"
      },
      "execution_count": null,
      "outputs": []
    },
    {
      "cell_type": "markdown",
      "source": [
        "## 3. Con parámetros, sin retorno"
      ],
      "metadata": {
        "id": "SfFagsGOvAWi"
      }
    },
    {
      "cell_type": "code",
      "source": [
        "def saludo3(nombre):\n",
        "    print(f\"{random.choice(saludos)} {nombre}!\")"
      ],
      "metadata": {
        "id": "VDCuQhI2viD_"
      },
      "execution_count": null,
      "outputs": []
    },
    {
      "cell_type": "markdown",
      "source": [
        "## 4. Con parámetros, con retorno"
      ],
      "metadata": {
        "id": "Cv9Tu3hlvASJ"
      }
    },
    {
      "cell_type": "code",
      "source": [
        "def saludo4(nombre):\n",
        "    return f\"{random.choice(saludos)} {nombre}!\""
      ],
      "metadata": {
        "id": "iJ5bIzNzvift"
      },
      "execution_count": null,
      "outputs": []
    },
    {
      "cell_type": "markdown",
      "source": [
        "## 5. LAMBDA"
      ],
      "metadata": {
        "id": "Mref_g1MvAO0"
      }
    },
    {
      "cell_type": "code",
      "source": [
        "saludo_lambda = lambda nombre: f\"{random.choice(saludos)} {nombre}!\""
      ],
      "metadata": {
        "id": "H0Z7Wpo8vi5y"
      },
      "execution_count": null,
      "outputs": []
    },
    {
      "cell_type": "markdown",
      "source": [
        "#Ejercicio 3: Crear una función que reciba dos números y retorne su suma, resta, multiplicación y división\n",
        "\n",
        "## 1. Sin parámetros, sin retorno"
      ],
      "metadata": {
        "id": "1TIiJOJ8vALf"
      }
    },
    {
      "cell_type": "code",
      "source": [
        "def operaciones1():\n",
        "    a = float(input(\"Ingrese el primer número: \"))\n",
        "    b = float(input(\"Ingrese el segundo número: \"))\n",
        "    if b != 0:\n",
        "        print(f\"Suma: {a+b}, Resta: {a-b}, Multiplicación: {a*b}, División: {a/b}\")\n",
        "    else:\n",
        "        print(f\"Suma: {a+b}, Resta: {a-b}, Multiplicación: {a*b}, División: No válida\")\n",
        "operaciones1()"
      ],
      "metadata": {
        "id": "SnOvL7HKvjSr",
        "colab": {
          "base_uri": "https://localhost:8080/"
        },
        "outputId": "566afb57-e344-4387-b690-b4f238132332"
      },
      "execution_count": 13,
      "outputs": [
        {
          "output_type": "stream",
          "name": "stdout",
          "text": [
            "Ingrese el primer número: 4\n",
            "Ingrese el segundo número: 6\n",
            "Suma: 10.0, Resta: -2.0, Multiplicación: 24.0, División: 0.6666666666666666\n"
          ]
        }
      ]
    },
    {
      "cell_type": "markdown",
      "source": [
        "## 2. Sin parámetros, con retorno"
      ],
      "metadata": {
        "id": "WQddxrDHvACR"
      }
    },
    {
      "cell_type": "code",
      "source": [
        "def operaciones2():\n",
        "    a = float(input(\"Ingrese el primer número: \"))\n",
        "    b = float(input(\"Ingrese el segundo número: \"))\n",
        "    if b != 0:\n",
        "        return a+b, a-b, a*b, a/b\n",
        "    else:\n",
        "        return a+b, a-b, a*b, \"División no válida\"\n",
        "resultado = operaciones2()\n",
        "print(\"Resultados:\", resultado)"
      ],
      "metadata": {
        "id": "_HX9Ff9RvjsF",
        "colab": {
          "base_uri": "https://localhost:8080/"
        },
        "outputId": "16274c6c-8fbc-47f6-cdd2-0780d18f0446"
      },
      "execution_count": 14,
      "outputs": [
        {
          "output_type": "stream",
          "name": "stdout",
          "text": [
            "Ingrese el primer número: 5\n",
            "Ingrese el segundo número: 6\n",
            "Resultados: (11.0, -1.0, 30.0, 0.8333333333333334)\n"
          ]
        }
      ]
    },
    {
      "cell_type": "markdown",
      "source": [
        "## 3. Con parámetros, sin retorno"
      ],
      "metadata": {
        "id": "uYeQTwaGu_38"
      }
    },
    {
      "cell_type": "code",
      "source": [
        "def operaciones3(a, b):\n",
        "    if b != 0:\n",
        "        print(f\"Suma: {a+b}, Resta: {a-b}, Multiplicación: {a*b}, División: {a/b}\")\n",
        "    else:\n",
        "        print(f\"Suma: {a+b}, Resta: {a-b}, Multiplicación: {a*b}, División: No válida\")\n",
        "operaciones3(10, 5)"
      ],
      "metadata": {
        "id": "DT3aV8FCvkDp",
        "colab": {
          "base_uri": "https://localhost:8080/"
        },
        "outputId": "6398aaf8-cf29-47f2-838c-437d64d9f844"
      },
      "execution_count": 15,
      "outputs": [
        {
          "output_type": "stream",
          "name": "stdout",
          "text": [
            "Suma: 15, Resta: 5, Multiplicación: 50, División: 2.0\n"
          ]
        }
      ]
    },
    {
      "cell_type": "markdown",
      "source": [
        "## 4. Con parámetros, con retorno"
      ],
      "metadata": {
        "id": "sQm002sc3QeY"
      }
    },
    {
      "cell_type": "code",
      "source": [
        "def operaciones4(a, b):\n",
        "    if b != 0:\n",
        "        return a+b, a-b, a*b, a/b\n",
        "    else:\n",
        "        return a+b, a-b, a*b, \"División no válida\"\n",
        "print(\"Resultados:\", operaciones4(12, 4))"
      ],
      "metadata": {
        "colab": {
          "base_uri": "https://localhost:8080/"
        },
        "id": "T_SDGtvL4Ty1",
        "outputId": "47b70430-adb4-4f93-9d70-6c2c75fe112f"
      },
      "execution_count": 16,
      "outputs": [
        {
          "output_type": "stream",
          "name": "stdout",
          "text": [
            "Resultados: (16, 8, 48, 3.0)\n"
          ]
        }
      ]
    },
    {
      "cell_type": "markdown",
      "source": [
        "## 5. LAMBDA"
      ],
      "metadata": {
        "id": "64_07Pwi3QXp"
      }
    },
    {
      "cell_type": "code",
      "source": [
        "operaciones_lambda = lambda a, b: (a+b, a-b, a*b, a/b if b != 0 else \"División no válida\")\n",
        "print(\"Resultados:\", operaciones_lambda(8, 0))"
      ],
      "metadata": {
        "colab": {
          "base_uri": "https://localhost:8080/"
        },
        "id": "xIwf3eXx4UNd",
        "outputId": "50513b05-1fab-4b5e-9edf-ac14d9a1fb5a"
      },
      "execution_count": 17,
      "outputs": [
        {
          "output_type": "stream",
          "name": "stdout",
          "text": [
            "Resultados: (8, 8, 0, 'División no válida')\n"
          ]
        }
      ]
    },
    {
      "cell_type": "markdown",
      "source": [
        "# Ejercicio 4: Crear una función que reciba una edad y retorne si es mayor de edad\n",
        "\n",
        "## 1. Sin parámetros, sin retorno"
      ],
      "metadata": {
        "id": "zi01qIiD3QSI"
      }
    },
    {
      "cell_type": "code",
      "source": [
        "def mayor_edad1():\n",
        "    edad = int(input(\"Ingrese su edad: \"))\n",
        "    if edad >= 18:\n",
        "        print(\"Mayor de edad\")\n",
        "    else:\n",
        "        print(\"Menor de edad\")\n",
        "mayor_edad1()"
      ],
      "metadata": {
        "colab": {
          "base_uri": "https://localhost:8080/"
        },
        "id": "QZ9Rwrea4Uk0",
        "outputId": "d8219b2b-e4bc-4803-b72d-e8a285c063cf"
      },
      "execution_count": 18,
      "outputs": [
        {
          "output_type": "stream",
          "name": "stdout",
          "text": [
            "Ingrese su edad: 4\n",
            "Menor de edad\n"
          ]
        }
      ]
    },
    {
      "cell_type": "markdown",
      "source": [
        "## 2. Sin parámetros, con retorno"
      ],
      "metadata": {
        "id": "YFf0moAi3QMM"
      }
    },
    {
      "cell_type": "code",
      "source": [
        "def mayor_edad2():\n",
        "    edad = int(input(\"Ingrese su edad: \"))\n",
        "    if edad >= 18:\n",
        "        return \"Mayor de edad\"\n",
        "    else:\n",
        "        return \"Menor de edad\"\n",
        "print(mayor_edad2())"
      ],
      "metadata": {
        "colab": {
          "base_uri": "https://localhost:8080/"
        },
        "id": "U2pYeH-n4U3f",
        "outputId": "e67fe5a2-c59d-4ccf-bf69-b81eb639cb2d"
      },
      "execution_count": 19,
      "outputs": [
        {
          "output_type": "stream",
          "name": "stdout",
          "text": [
            "Ingrese su edad: 67\n",
            "Mayor de edad\n"
          ]
        }
      ]
    },
    {
      "cell_type": "markdown",
      "source": [
        "## 3. Con parámetros, sin retorno"
      ],
      "metadata": {
        "id": "lGz8GZBS3QG-"
      }
    },
    {
      "cell_type": "code",
      "source": [
        "def mayor_edad3(edad):\n",
        "    if edad >= 18:\n",
        "        print(\"Mayor de edad\")\n",
        "    else:\n",
        "        print(\"Menor de edad\")\n",
        "mayor_edad3(20)"
      ],
      "metadata": {
        "colab": {
          "base_uri": "https://localhost:8080/"
        },
        "id": "08wW4WcS4VOl",
        "outputId": "4766815e-ee4d-4bea-b2a9-47be8841786b"
      },
      "execution_count": 20,
      "outputs": [
        {
          "output_type": "stream",
          "name": "stdout",
          "text": [
            "Mayor de edad\n"
          ]
        }
      ]
    },
    {
      "cell_type": "markdown",
      "source": [
        "## 4. Con parámetros, con retorno"
      ],
      "metadata": {
        "id": "ZV0b77tM3P-t"
      }
    },
    {
      "cell_type": "code",
      "source": [
        "def mayor_edad4(edad):\n",
        "    return \"Mayor de edad\" if edad >= 18 else \"Menor de edad\"\n",
        "print(mayor_edad4(16))"
      ],
      "metadata": {
        "colab": {
          "base_uri": "https://localhost:8080/"
        },
        "id": "JM1bPUPc4WDG",
        "outputId": "4ba4c790-e883-45cd-8e32-9ebe334e76c6"
      },
      "execution_count": 22,
      "outputs": [
        {
          "output_type": "stream",
          "name": "stdout",
          "text": [
            "Menor de edad\n"
          ]
        }
      ]
    },
    {
      "cell_type": "markdown",
      "source": [
        "## 5. LAMBDA"
      ],
      "metadata": {
        "id": "j7lFTfs43P3u"
      }
    },
    {
      "cell_type": "code",
      "source": [
        "mayor_edad_lambda = lambda edad: \"Mayor de edad\" if edad >= 18 else \"Menor de edad\"\n",
        "print(mayor_edad_lambda(22))"
      ],
      "metadata": {
        "colab": {
          "base_uri": "https://localhost:8080/"
        },
        "id": "JAQD8Wi_5Gge",
        "outputId": "b778c18d-f111-4982-8301-2f79db06fbf6"
      },
      "execution_count": 21,
      "outputs": [
        {
          "output_type": "stream",
          "name": "stdout",
          "text": [
            "Mayor de edad\n"
          ]
        }
      ]
    },
    {
      "cell_type": "markdown",
      "source": [
        "# Ejercicio 5: Crear una función que reciba una palabra y determine si es un palíndromo\n",
        "\n",
        "## 1. Sin parámetros, sin retorno"
      ],
      "metadata": {
        "id": "kIw-rQM-3PwV"
      }
    },
    {
      "cell_type": "code",
      "source": [
        "def palindromo1():\n",
        "    palabra = input(\"Ingrese una palabra: \").lower().replace(\" \", \"\")\n",
        "    if palabra == palabra[::-1]:\n",
        "        print(\"Es un palíndromo\")\n",
        "    else:\n",
        "        print(\"No es un palíndromo\")\n",
        "palindromo1()"
      ],
      "metadata": {
        "colab": {
          "base_uri": "https://localhost:8080/"
        },
        "id": "L9DlaJUz5G6Z",
        "outputId": "4cef9400-f5d4-4f41-eaad-74021332a7cb"
      },
      "execution_count": 23,
      "outputs": [
        {
          "output_type": "stream",
          "name": "stdout",
          "text": [
            "Ingrese una palabra: paz\n",
            "No es un palíndromo\n"
          ]
        }
      ]
    },
    {
      "cell_type": "markdown",
      "source": [
        "## 2. Sin parámetros, con retorno"
      ],
      "metadata": {
        "id": "x0pAtSq23Poo"
      }
    },
    {
      "cell_type": "code",
      "source": [
        "def palindromo2():\n",
        "    palabra = input(\"Ingrese una palabra: \").lower().replace(\" \", \"\")\n",
        "    if palabra == palabra[::-1]:\n",
        "        return True\n",
        "    else:\n",
        "        return False\n",
        "print(\"¿Es palíndromo?:\", palindromo2())"
      ],
      "metadata": {
        "colab": {
          "base_uri": "https://localhost:8080/"
        },
        "id": "F72CYdx-5HWx",
        "outputId": "05637f98-fb0c-49d3-8a04-1578fc41ca09"
      },
      "execution_count": 25,
      "outputs": [
        {
          "output_type": "stream",
          "name": "stdout",
          "text": [
            "Ingrese una palabra: ana\n",
            "¿Es palíndromo?: True\n"
          ]
        }
      ]
    },
    {
      "cell_type": "markdown",
      "source": [
        "## 3. Con parámetros, sin retorno"
      ],
      "metadata": {
        "id": "-C0zLsYx3Pi3"
      }
    },
    {
      "cell_type": "code",
      "source": [
        "def palindromo3(palabra):\n",
        "    palabra = palabra.lower().replace(\" \", \"\")\n",
        "    if palabra == palabra[::-1]:\n",
        "        print(\"Es un palíndromo\")\n",
        "    else:\n",
        "        print(\"No es un palíndromo\")\n",
        "palindromo3(\"Ana\")"
      ],
      "metadata": {
        "colab": {
          "base_uri": "https://localhost:8080/"
        },
        "id": "O_WvIxMz6DK1",
        "outputId": "370f0a9e-7b93-498a-ea41-42025b0458a1"
      },
      "execution_count": 26,
      "outputs": [
        {
          "output_type": "stream",
          "name": "stdout",
          "text": [
            "Es un palíndromo\n"
          ]
        }
      ]
    },
    {
      "cell_type": "markdown",
      "source": [
        "## 4. Con parámetros, con retorno"
      ],
      "metadata": {
        "id": "g6fK2Ftz3PeI"
      }
    },
    {
      "cell_type": "code",
      "source": [
        "def palindromo4(palabra):\n",
        "    palabra = palabra.lower().replace(\" \", \"\")\n",
        "    return palabra == palabra[::-1]\n",
        "print(\"¿Es palíndromo?:\", palindromo4(\"reconocer\"))"
      ],
      "metadata": {
        "colab": {
          "base_uri": "https://localhost:8080/"
        },
        "id": "7Mjjvqcw6CpY",
        "outputId": "3e6e1fb7-a6bf-4f3e-b588-6680a9a2446b"
      },
      "execution_count": 27,
      "outputs": [
        {
          "output_type": "stream",
          "name": "stdout",
          "text": [
            "¿Es palíndromo?: True\n"
          ]
        }
      ]
    },
    {
      "cell_type": "markdown",
      "source": [
        "## 5.LAMBDA"
      ],
      "metadata": {
        "id": "0NCjh-vX3PXo"
      }
    },
    {
      "cell_type": "code",
      "source": [
        "palindromo_lambda = lambda palabra: palabra.lower().replace(\" \", \"\") == palabra.lower().replace(\" \", \"\")[::-1]\n",
        "print(\"¿Es palíndromo?:\", palindromo_lambda(\"oso\"))"
      ],
      "metadata": {
        "colab": {
          "base_uri": "https://localhost:8080/"
        },
        "id": "63ZaBc0i6dmW",
        "outputId": "ac117974-f01b-4c27-fe45-9ef979e00ec0"
      },
      "execution_count": 28,
      "outputs": [
        {
          "output_type": "stream",
          "name": "stdout",
          "text": [
            "¿Es palíndromo?: True\n"
          ]
        }
      ]
    }
  ]
}