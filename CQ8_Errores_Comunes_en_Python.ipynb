{
  "nbformat": 4,
  "nbformat_minor": 0,
  "metadata": {
    "colab": {
      "provenance": [],
      "authorship_tag": "ABX9TyMagbppgnzU2eJqvFzVPPeI",
      "include_colab_link": true
    },
    "kernelspec": {
      "name": "python3",
      "display_name": "Python 3"
    },
    "language_info": {
      "name": "python"
    }
  },
  "cells": [
    {
      "cell_type": "markdown",
      "metadata": {
        "id": "view-in-github",
        "colab_type": "text"
      },
      "source": [
        "<a href=\"https://colab.research.google.com/github/mgamboa564/PROGCOM-A/blob/main/CQ8_Errores_Comunes_en_Python.ipynb\" target=\"_parent\"><img src=\"https://colab.research.google.com/assets/colab-badge.svg\" alt=\"Open In Colab\"/></a>"
      ]
    },
    {
      "cell_type": "markdown",
      "source": [
        "#CQ8\n",
        "##Repositorio de Errores Comunes en Python"
      ],
      "metadata": {
        "id": "scevrcbEqxnk"
      }
    },
    {
      "cell_type": "markdown",
      "source": [
        "##1. KeyError\n",
        "Se produce: Ocurre cuando intentamos acceder a una clave inexistente en un diccionario."
      ],
      "metadata": {
        "id": "3DIijyV5q8ua"
      }
    },
    {
      "cell_type": "code",
      "execution_count": null,
      "metadata": {
        "id": "TLkqr8umqwCc"
      },
      "outputs": [],
      "source": [
        "# Ejemplo con error\n",
        "paises = {\"Colombia\": 57, \"México\": 52}\n",
        "print(paises[\"Perú\"])   # KeyError"
      ]
    },
    {
      "cell_type": "code",
      "source": [
        "#Corrección\n",
        "print(paises.get(\"Perú\", \"Clave no encontrada\"))"
      ],
      "metadata": {
        "id": "b4lVYZzzrL9L"
      },
      "execution_count": null,
      "outputs": []
    },
    {
      "cell_type": "markdown",
      "source": [
        "#2. IndexError\n",
        "Se produce: Sucede al acceder a una posición fuera del rango de una lista."
      ],
      "metadata": {
        "id": "9GzqvxuvrDpD"
      }
    },
    {
      "cell_type": "code",
      "source": [
        "# Ejemplo con error\n",
        "numeros = [10, 20, 30]\n",
        "print(numeros[5])   # IndexError"
      ],
      "metadata": {
        "id": "Z7LfcVSRrU_C"
      },
      "execution_count": null,
      "outputs": []
    },
    {
      "cell_type": "code",
      "source": [
        "#Corrección\n",
        "if 5 < len(numeros):\n",
        "    print(numeros[5])\n",
        "else:\n",
        "    print(\"Índice fuera de rango\")\n"
      ],
      "metadata": {
        "id": "1UDPEGFCrWCt"
      },
      "execution_count": null,
      "outputs": []
    },
    {
      "cell_type": "markdown",
      "source": [
        "#3. TypeError\n",
        "Se produce: Se da cuando intentamos operar con tipos de datos incompatibles."
      ],
      "metadata": {
        "id": "CTriG1RarWcw"
      }
    },
    {
      "cell_type": "code",
      "source": [
        "# Ejemplo con error\n",
        "x = \"10\"\n",
        "y = 5\n",
        "print(x + y)   # TypeError"
      ],
      "metadata": {
        "id": "FdA43gW1rXRI"
      },
      "execution_count": null,
      "outputs": []
    },
    {
      "cell_type": "code",
      "source": [
        "#Corrección\n",
        "print(int(x) + y)   # Ahora sí funciona"
      ],
      "metadata": {
        "id": "w26zbtA6rW9Y"
      },
      "execution_count": null,
      "outputs": []
    },
    {
      "cell_type": "markdown",
      "source": [
        "#4. NameError\n",
        "Se produce: Ocurre cuando usamos una variable o función que no está definida."
      ],
      "metadata": {
        "id": "mvPIcsu2tf6z"
      }
    },
    {
      "cell_type": "code",
      "source": [
        "# Ejemplo con error\n",
        "print(resultado)   # NameError"
      ],
      "metadata": {
        "id": "6FZLkPDytgu7"
      },
      "execution_count": null,
      "outputs": []
    },
    {
      "cell_type": "code",
      "source": [
        "#Corrección\n",
        "resultado = 10\n",
        "print(resultado)"
      ],
      "metadata": {
        "id": "xymXlMwztgWf"
      },
      "execution_count": null,
      "outputs": []
    },
    {
      "cell_type": "markdown",
      "source": [
        "#5. IndentationError\n",
        "Se produce: Se genera por mala indentación en el código."
      ],
      "metadata": {
        "id": "eJsbqOOstfrk"
      }
    },
    {
      "cell_type": "code",
      "source": [
        "# Ejemplo con error\n",
        "def saludo():\n",
        "print(\"Hola\")   # IndentationError"
      ],
      "metadata": {
        "id": "9rpA-nRJthXM"
      },
      "execution_count": null,
      "outputs": []
    },
    {
      "cell_type": "code",
      "source": [
        "#Corrección\n",
        "def saludo():\n",
        "    print(\"Hola\")"
      ],
      "metadata": {
        "id": "SlSfJ3MxthMh"
      },
      "execution_count": null,
      "outputs": []
    },
    {
      "cell_type": "markdown",
      "source": [
        "#6. ZeroDivisionError\n",
        "Se produce: Sucede cuando intentamos dividir un número entre 0."
      ],
      "metadata": {
        "id": "HgJOrj3pth16"
      }
    },
    {
      "cell_type": "code",
      "source": [
        "# Ejemplo con error\n",
        "x = 10\n",
        "y = 0\n",
        "print(x / y)   # ZeroDivisionError\n"
      ],
      "metadata": {
        "id": "Bbrh9bj9tiyp"
      },
      "execution_count": null,
      "outputs": []
    },
    {
      "cell_type": "code",
      "source": [
        "#Corrección\n",
        "if y != 0:\n",
        "    print(x / y)\n",
        "else:\n",
        "    print(\"No se puede dividir entre 0\")\n"
      ],
      "metadata": {
        "id": "SCMI8LQ_tieJ"
      },
      "execution_count": null,
      "outputs": []
    }
  ]
}