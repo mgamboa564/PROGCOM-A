{
  "nbformat": 4,
  "nbformat_minor": 0,
  "metadata": {
    "colab": {
      "provenance": [],
      "authorship_tag": "ABX9TyOTIkRwiYSuSxJfdTskfkVV",
      "include_colab_link": true
    },
    "kernelspec": {
      "name": "python3",
      "display_name": "Python 3"
    },
    "language_info": {
      "name": "python"
    }
  },
  "cells": [
    {
      "cell_type": "markdown",
      "metadata": {
        "id": "view-in-github",
        "colab_type": "text"
      },
      "source": [
        "<a href=\"https://colab.research.google.com/github/mgamboa564/PROGCOM-A/blob/main/Clase_3_Funciones.ipynb\" target=\"_parent\"><img src=\"https://colab.research.google.com/assets/colab-badge.svg\" alt=\"Open In Colab\"/></a>"
      ]
    },
    {
      "cell_type": "markdown",
      "source": [
        "Copiado dinamico. dia nacimiento a un nuevo paradigma de programacion modular.\n",
        "\n",
        "#Forma general de programar funciones.\n",
        "\n",
        "```\n",
        "def (nombre_de_funcion)(p,p2,p3...pn):\n",
        "  donde p,p2,p3...pn: son parametros\n",
        "```\n",
        "\n"
      ],
      "metadata": {
        "id": "f0eUFv024Uko"
      }
    },
    {
      "cell_type": "markdown",
      "source": [
        "##Tipos de fúnciones\n",
        "1. Sin parámetros, sin retorno\n",
        "2. Sin parámetros, con retorno\n",
        "3. Con parámetros, sin retorno\n",
        "4. Con parámetros, con retorno\n",
        "\n"
      ],
      "metadata": {
        "id": "3xmbtxf9566n"
      }
    },
    {
      "cell_type": "markdown",
      "source": [
        "##1. Sin parámetros, sin retorno\n",
        "\n",
        "se emplea como copiado dinamico"
      ],
      "metadata": {
        "id": "7j6VRcFX6qJ5"
      }
    },
    {
      "cell_type": "code",
      "execution_count": 6,
      "metadata": {
        "id": "uHGvGdtY4LHv"
      },
      "outputs": [],
      "source": [
        "#ejemplo: entrada de cajero electrónico\n",
        "def cajero():# Esto significa que es sin parámetros\n",
        "  print(\"Bienvenido a DaviUNAB\")\n",
        "  print(\"Estas son las operaciones que puede realizar:\")\n",
        "  print(\"1. Retirar\\n2. Transferencia\\n3. Denunciar\\n4. Operaciones sin tarjeta\")"
      ]
    },
    {
      "cell_type": "code",
      "source": [
        "cajero ()"
      ],
      "metadata": {
        "colab": {
          "base_uri": "https://localhost:8080/"
        },
        "id": "yZPaxt98-PXQ",
        "outputId": "b35ecc8b-52c6-409b-da2a-253aad2ab8e2"
      },
      "execution_count": 7,
      "outputs": [
        {
          "output_type": "stream",
          "name": "stdout",
          "text": [
            "Bienvenido a DaviUNAB\n",
            "Estas son las operaciones que puede realizar:\n",
            "1. Retirar\n",
            "2. Transferencia\n",
            "3. Denunciar\n",
            "4. Operaciones sin tarjeta\n"
          ]
        }
      ]
    },
    {
      "cell_type": "markdown",
      "source": [
        "##2. Sin parametros con retorno"
      ],
      "metadata": {
        "id": "me5kWm7b-mFX"
      }
    },
    {
      "cell_type": "code",
      "source": [
        "def cajero2 ():# Esto significa que es sin parámetros\n",
        "  print(\"Bienvenido a DaviUNAB\" )\n",
        "  print(\"Estas son las operaciones que puede realizar:\")\n",
        "  print(\"1. Retirar\\n2. Transferencia\\n3. Denunciar\\n4. Operaciones sin tarjeta\")\n",
        "  rta=input(\"ingrese una opción\")#Variable local"
      ],
      "metadata": {
        "id": "4_FALFCf-mdN"
      },
      "execution_count": 8,
      "outputs": []
    },
    {
      "cell_type": "code",
      "source": [
        "rta=cajero2()"
      ],
      "metadata": {
        "id": "WqfLDETU_JIh"
      },
      "execution_count": null,
      "outputs": []
    },
    {
      "cell_type": "code",
      "source": [
        "type(rta)"
      ],
      "metadata": {
        "id": "W4Q5PJvwAF-8"
      },
      "execution_count": null,
      "outputs": []
    },
    {
      "cell_type": "markdown",
      "source": [
        "##3.Con Parametros sin retorno"
      ],
      "metadata": {
        "id": "RN0WWfgUAVF7"
      }
    },
    {
      "cell_type": "code",
      "source": [
        "#ejemplo: el área de un rectangulo\n",
        "def ab(u, du):\n",
        "  print(f\" el área de un rectángulo de base {u} y altura {du} es {u*du}\")"
      ],
      "metadata": {
        "id": "MpFLV3cMAPKo"
      },
      "execution_count": 24,
      "outputs": []
    },
    {
      "cell_type": "code",
      "source": [
        "a=ab(2,3)"
      ],
      "metadata": {
        "colab": {
          "base_uri": "https://localhost:8080/"
        },
        "id": "KiDaHdX2BAjz",
        "outputId": "083fa412-e556-46c8-f47f-ef60a79d4232"
      },
      "execution_count": 25,
      "outputs": [
        {
          "output_type": "stream",
          "name": "stdout",
          "text": [
            " el área de un rectángulo de base 2 y altura 3 es 6\n"
          ]
        }
      ]
    },
    {
      "cell_type": "code",
      "source": [
        "print(a)"
      ],
      "metadata": {
        "colab": {
          "base_uri": "https://localhost:8080/"
        },
        "id": "S52y7UtiBA5f",
        "outputId": "6116e956-44f9-44df-9299-60376833df84"
      },
      "execution_count": 26,
      "outputs": [
        {
          "output_type": "stream",
          "name": "stdout",
          "text": [
            "None\n"
          ]
        }
      ]
    },
    {
      "cell_type": "markdown",
      "source": [
        "##4. con parametros y con retorno"
      ],
      "metadata": {
        "id": "ziLlUM5GBq8A"
      }
    },
    {
      "cell_type": "code",
      "source": [
        "#ejemplo: el area de un rectangulo\n",
        "def area_rectangulo(u,du):\n",
        "    return(f\" el area de un rectangulo de base {u} y altura {du} es {u*du}\")"
      ],
      "metadata": {
        "id": "sMgtWdKnBvwO"
      },
      "execution_count": 27,
      "outputs": []
    },
    {
      "cell_type": "code",
      "source": [
        "a=area_rectangulo(10,15)"
      ],
      "metadata": {
        "id": "l9ogxOprCEF0"
      },
      "execution_count": 28,
      "outputs": []
    },
    {
      "cell_type": "code",
      "source": [
        "print(a)"
      ],
      "metadata": {
        "colab": {
          "base_uri": "https://localhost:8080/"
        },
        "id": "1cZHpvCSCKSh",
        "outputId": "ae431f1a-46f2-49c9-8a0c-bd23d5af3799"
      },
      "execution_count": 29,
      "outputs": [
        {
          "output_type": "stream",
          "name": "stdout",
          "text": [
            " el area de un rectangulo de base 10 y altura 15 es 150\n"
          ]
        }
      ]
    },
    {
      "cell_type": "markdown",
      "source": [
        "##FUNCIONES ANONIMAS Y LAMBDA\n",
        "\n",
        "1. siempre usan parametros\n",
        "2. siempre genera un retorno\n",
        "3. no tienen nombre -->anonimas\n",
        "4. **se puede emplear n parametros, pero solo ejecuta una linea de codigo**\n",
        "\n",
        "###definicion de finciones LAMBDA\n",
        "\n",
        "```\n",
        "Variable+lambda (p,p1,p2,...pn): operacion\n",
        "```\n",
        "\n"
      ],
      "metadata": {
        "id": "K77bxnkDComL"
      }
    },
    {
      "cell_type": "code",
      "source": [
        "#ejemplo: calcular el area de un triangulo\n",
        "area_rectangulo=lambda a,b:a*b/2"
      ],
      "metadata": {
        "id": "6ZD0gg09D_Zs"
      },
      "execution_count": 30,
      "outputs": []
    },
    {
      "cell_type": "code",
      "source": [
        "area_rectangulo(3,8)"
      ],
      "metadata": {
        "colab": {
          "base_uri": "https://localhost:8080/"
        },
        "id": "7gHPzzEpEOv5",
        "outputId": "e8b40d67-cfac-48d6-8d51-7beee2b051cc"
      },
      "execution_count": 31,
      "outputs": [
        {
          "output_type": "execute_result",
          "data": {
            "text/plain": [
              "12.0"
            ]
          },
          "metadata": {},
          "execution_count": 31
        }
      ]
    },
    {
      "cell_type": "code",
      "source": [
        "x=int(input(\"ingrese la altura de un triangulo\"))\n",
        "y=int(input(\"ingrese la base de un triangulo\"))\n",
        "area_rectangulo(x,y)"
      ],
      "metadata": {
        "colab": {
          "base_uri": "https://localhost:8080/"
        },
        "id": "u957DIYVElyQ",
        "outputId": "67efa095-f9f1-4bf0-a5d5-f11882d50597"
      },
      "execution_count": 35,
      "outputs": [
        {
          "name": "stdout",
          "output_type": "stream",
          "text": [
            "ingrese la altura de un triangulo4\n",
            "ingrese la base de un triangulo5\n"
          ]
        },
        {
          "output_type": "execute_result",
          "data": {
            "text/plain": [
              "10.0"
            ]
          },
          "metadata": {},
          "execution_count": 35
        }
      ]
    },
    {
      "cell_type": "code",
      "source": [
        "#quest obligatoria: area de un circulo\n",
        "area_circulo=lambda b:(3.14)*b**2"
      ],
      "metadata": {
        "id": "r0mGi4-FGAF2"
      },
      "execution_count": 44,
      "outputs": []
    },
    {
      "cell_type": "code",
      "source": [
        "area_circulo(4)"
      ],
      "metadata": {
        "colab": {
          "base_uri": "https://localhost:8080/"
        },
        "id": "cVf7pIZ_Gbtl",
        "outputId": "d94ad1d9-d461-4d16-d33f-0f05c4850ae8"
      },
      "execution_count": 45,
      "outputs": [
        {
          "output_type": "execute_result",
          "data": {
            "text/plain": [
              "50.24"
            ]
          },
          "metadata": {},
          "execution_count": 45
        }
      ]
    }
  ]
}