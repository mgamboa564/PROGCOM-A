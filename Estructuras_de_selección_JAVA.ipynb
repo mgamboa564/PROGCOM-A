{
  "nbformat": 4,
  "nbformat_minor": 0,
  "metadata": {
    "colab": {
      "provenance": [],
      "authorship_tag": "ABX9TyNi9t0oBXddPBhwCon40bk6",
      "include_colab_link": true
    },
    "kernelspec": {
      "name": "python3",
      "display_name": "Python 3"
    },
    "language_info": {
      "name": "python"
    }
  },
  "cells": [
    {
      "cell_type": "markdown",
      "metadata": {
        "id": "view-in-github",
        "colab_type": "text"
      },
      "source": [
        "<a href=\"https://colab.research.google.com/github/mgamboa564/PROGCOM-A/blob/main/Estructuras_de_selecci%C3%B3n_JAVA.ipynb\" target=\"_parent\"><img src=\"https://colab.research.google.com/assets/colab-badge.svg\" alt=\"Open In Colab\"/></a>"
      ]
    },
    {
      "cell_type": "markdown",
      "source": [
        "#1 Con if - else"
      ],
      "metadata": {
        "id": "pvVtYyPZRN3a"
      }
    },
    {
      "cell_type": "code",
      "execution_count": null,
      "metadata": {
        "id": "OVlYsmH8RLOy"
      },
      "outputs": [],
      "source": [
        "public class Ejercicio1IfElse {\n",
        "    public static void main(String[] args) {\n",
        "        int numero = 5;\n",
        "\n",
        "        if (numero > 0) {\n",
        "            System.out.println(\"El número es positivo\");\n",
        "        } else {\n",
        "            System.out.println(\"El número no es positivo\");\n",
        "        }\n",
        "    }\n",
        "}"
      ]
    },
    {
      "cell_type": "markdown",
      "source": [
        "| **Código**                                            | **Explicación**                                                              |\n",
        "| ----------------------------------------------------- | ---------------------------------------------------------------------------- |\n",
        "| `int numero = 5;`                                     | Se declara la variable `numero` de tipo entero y se le asigna el valor `5`.  |\n",
        "| `if (numero > 0) {`                                   | Se inicia una condición: si el número es mayor a 0.                          |\n",
        "| `    System.out.println(\"El número es positivo\");`    | Si la condición es verdadera, se imprime el mensaje “El número es positivo”. |\n",
        "| `} else {`                                            | Indica la parte contraria, si la condición no se cumple.                     |\n",
        "| `    System.out.println(\"El número no es positivo\");` | Si el número es menor o igual a 0, imprime “El número no es positivo”.       |\n",
        "| `}`                                                   | Cierra la estructura `if - else`.                                            |\n"
      ],
      "metadata": {
        "id": "aaPNMIPlR6GP"
      }
    },
    {
      "cell_type": "markdown",
      "source": [
        "#2 Con if - else if"
      ],
      "metadata": {
        "id": "D7sh5uXbSCnq"
      }
    },
    {
      "cell_type": "code",
      "source": [
        "public class Ejercicio1ElseIf {\n",
        "    public static void main(String[] args) {\n",
        "        int numero = 0;\n",
        "\n",
        "        if (numero > 0) {\n",
        "            System.out.println(\"El número es positivo\");\n",
        "        } else if (numero == 0) {\n",
        "            System.out.println(\"El número es cero\");\n",
        "        } else {\n",
        "            System.out.println(\"El número es negativo\");\n",
        "        }\n",
        "    }"
      ],
      "metadata": {
        "id": "Oi_mDBhgR_-K"
      },
      "execution_count": null,
      "outputs": []
    },
    {
      "cell_type": "markdown",
      "source": [
        "| **Código**                                         | **Explicación**                                           |\n",
        "| -------------------------------------------------- | --------------------------------------------------------- |\n",
        "| `int numero = 0;`                                  | Se declara la variable `numero` y se asigna el valor `0`. |\n",
        "| `if (numero > 0) {`                                | Primera condición: ¿es mayor que 0?                       |\n",
        "| `    System.out.println(\"El número es positivo\");` | Se ejecuta si el número es mayor que 0.                   |\n",
        "| `} else if (numero == 0) {`                        | Segunda condición: ¿es igual a 0?                         |\n",
        "| `    System.out.println(\"El número es cero\");`     | Se ejecuta si el número es igual a 0.                     |\n",
        "| `} else {`                                         | Si ninguna de las condiciones anteriores se cumple.       |\n",
        "| `    System.out.println(\"El número es negativo\");` | Se ejecuta cuando el número es menor a 0.                 |\n",
        "| `}`                                                | Fin de la estructura.                                     |\n"
      ],
      "metadata": {
        "id": "jyq-4aKxSDTm"
      }
    },
    {
      "cell_type": "markdown",
      "source": [
        "#3 Con operador ternario"
      ],
      "metadata": {
        "id": "vm48zd_lSDy2"
      }
    },
    {
      "cell_type": "code",
      "source": [
        "public class Ejercicio1Ternario {\n",
        "    public static void main(String[] args) {\n",
        "        int numero = -3;\n",
        "\n",
        "        String mensaje = (numero > 0) ? \"El número es positivo\" : \"El número no es positivo\";\n",
        "        System.out.println(mensaje);\n",
        "    }\n",
        "}"
      ],
      "metadata": {
        "id": "I40el0zPSEZe"
      },
      "execution_count": null,
      "outputs": []
    },
    {
      "cell_type": "markdown",
      "source": [
        "| **Código**                                                                              | **Explicación**                                                                                                                                                        |\n",
        "| --------------------------------------------------------------------------------------- | ---------------------------------------------------------------------------------------------------------------------------------------------------------------------- |\n",
        "| `int numero = -3;`                                                                      | Se declara la variable `numero` y se le asigna el valor `-3`.                                                                                                          |\n",
        "| `String mensaje = (numero > 0) ? \"El número es positivo\" : \"El número no es positivo\";` | Se declara la variable `mensaje`. Si la condición `(numero > 0)` es verdadera, guardará “El número es positivo”. De lo contrario, guardará “El número no es positivo”. |\n",
        "| `System.out.println(mensaje);`                                                          | Imprime en pantalla el contenido de la variable `mensaje`.                                                                                                             |\n"
      ],
      "metadata": {
        "id": "dTeL1J9gSEwR"
      }
    },
    {
      "cell_type": "markdown",
      "source": [
        "#4 Con switch"
      ],
      "metadata": {
        "id": "gG36pqPzSven"
      }
    },
    {
      "cell_type": "code",
      "source": [
        "public class Ejercicio1Switch {\n",
        "    public static void main(String[] args) {\n",
        "        int numero = -7;\n",
        "        int caso;\n",
        "\n",
        "        if (numero > 0) {\n",
        "            caso = 1;\n",
        "        } else if (numero == 0) {\n",
        "            caso = 0;\n",
        "        } else {\n",
        "            caso = -1;\n",
        "        }\n",
        "\n",
        "        switch (caso) {\n",
        "            case 1:\n",
        "                System.out.println(\"El número es positivo\");\n",
        "                break;\n",
        "            case 0:\n",
        "                System.out.println(\"El número es cero\");\n",
        "                break;\n",
        "            case -1:\n",
        "                System.out.println(\"El número es negativo\");\n",
        "                break;\n",
        "        }\n",
        "    }\n",
        "}\n"
      ],
      "metadata": {
        "id": "uFmybyQYSwDC"
      },
      "execution_count": null,
      "outputs": []
    },
    {
      "cell_type": "markdown",
      "source": [
        "| **Código**                                             | **Explicación**                                                         |\n",
        "| ------------------------------------------------------ | ----------------------------------------------------------------------- |\n",
        "| `int numero = -7;`                                     | Se declara la variable `numero` con valor `-7`.                         |\n",
        "| `int caso;`                                            | Se declara una variable auxiliar `caso` que guardará el tipo de número. |\n",
        "| `if (numero > 0) { caso = 1; }`                        | Si el número es mayor que 0, `caso` será 1.                             |\n",
        "| `else if (numero == 0) { caso = 0; }`                  | Si el número es 0, `caso` será 0.                                       |\n",
        "| `else { caso = -1; }`                                  | Si el número es negativo, `caso` será -1.                               |\n",
        "| `switch (caso) {`                                      | Se abre la estructura `switch` con el valor de `caso`.                  |\n",
        "| `    case 1:`                                          | Caso cuando el número fue positivo.                                     |\n",
        "| `        System.out.println(\"El número es positivo\");` | Imprime que es positivo.                                                |\n",
        "| `        break;`                                       | Termina el `case 1`.                                                    |\n",
        "| `    case 0:`                                          | Caso cuando el número fue igual a 0.                                    |\n",
        "| `        System.out.println(\"El número es cero\");`     | Imprime que es cero.                                                    |\n",
        "| `        break;`                                       | Termina el `case 0`.                                                    |\n",
        "| `    case -1:`                                         | Caso cuando el número fue negativo.                                     |\n",
        "| `        System.out.println(\"El número es negativo\");` | Imprime que es negativo.                                                |\n",
        "| `        break;`                                       | Termina el `case -1`.                                                   |\n",
        "| `}`                                                    | Cierra el `switch`.                                                     |\n"
      ],
      "metadata": {
        "id": "-GAdIC43Sx1q"
      }
    }
  ]
}